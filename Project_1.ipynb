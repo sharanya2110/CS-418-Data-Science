{
 "cells": [
  {
   "cell_type": "code",
   "execution_count": 1,
   "id": "0b2871d8",
   "metadata": {},
   "outputs": [],
   "source": [
    "import numpy as np\n",
    "import pandas as pd\n",
    "import matplotlib.pyplot as plt"
   ]
  },
  {
   "cell_type": "code",
   "execution_count": 2,
   "id": "9e3c8f6c",
   "metadata": {},
   "outputs": [
    {
     "data": {
      "text/html": [
       "<div>\n",
       "<style scoped>\n",
       "    .dataframe tbody tr th:only-of-type {\n",
       "        vertical-align: middle;\n",
       "    }\n",
       "\n",
       "    .dataframe tbody tr th {\n",
       "        vertical-align: top;\n",
       "    }\n",
       "\n",
       "    .dataframe thead th {\n",
       "        text-align: right;\n",
       "    }\n",
       "</style>\n",
       "<table border=\"1\" class=\"dataframe\">\n",
       "  <thead>\n",
       "    <tr style=\"text-align: right;\">\n",
       "      <th></th>\n",
       "      <th>CRASH_RECORD_ID</th>\n",
       "      <th>CRASH_DATE</th>\n",
       "      <th>POSTED_SPEED_LIMIT</th>\n",
       "      <th>TRAFFIC_CONTROL_DEVICE</th>\n",
       "      <th>DEVICE_CONDITION</th>\n",
       "      <th>WEATHER_CONDITION</th>\n",
       "      <th>LIGHTING_CONDITION</th>\n",
       "      <th>FIRST_CRASH_TYPE</th>\n",
       "      <th>TRAFFICWAY_TYPE</th>\n",
       "      <th>ROADWAY_SURFACE_COND</th>\n",
       "      <th>...</th>\n",
       "      <th>PRIM_CONTRIBUTORY_CAUSE</th>\n",
       "      <th>NUM_UNITS</th>\n",
       "      <th>INJURIES_TOTAL</th>\n",
       "      <th>INJURIES_FATAL</th>\n",
       "      <th>INJURIES_INCAPACITATING</th>\n",
       "      <th>INJURIES_NON_INCAPACITATING</th>\n",
       "      <th>INJURIES_REPORTED_NOT_EVIDENT</th>\n",
       "      <th>CRASH_HOUR</th>\n",
       "      <th>CRASH_DAY_OF_WEEK</th>\n",
       "      <th>CRASH_MONTH</th>\n",
       "    </tr>\n",
       "  </thead>\n",
       "  <tbody>\n",
       "    <tr>\n",
       "      <th>0</th>\n",
       "      <td>4fd0a3e0897b3335b94cd8d5b2d2b350eb691add56c62d...</td>\n",
       "      <td>7/10/19 17:56</td>\n",
       "      <td>35</td>\n",
       "      <td>NO CONTROLS</td>\n",
       "      <td>NO CONTROLS</td>\n",
       "      <td>CLEAR</td>\n",
       "      <td>DAYLIGHT</td>\n",
       "      <td>TURNING</td>\n",
       "      <td>ONE-WAY</td>\n",
       "      <td>DRY</td>\n",
       "      <td>...</td>\n",
       "      <td>IMPROPER BACKING</td>\n",
       "      <td>2</td>\n",
       "      <td>0.0</td>\n",
       "      <td>0.0</td>\n",
       "      <td>0.0</td>\n",
       "      <td>0.0</td>\n",
       "      <td>0.0</td>\n",
       "      <td>17</td>\n",
       "      <td>4</td>\n",
       "      <td>7</td>\n",
       "    </tr>\n",
       "    <tr>\n",
       "      <th>1</th>\n",
       "      <td>009e9e67203442370272e1a13d6ee51a4155dac65e583d...</td>\n",
       "      <td>6/30/17 16:00</td>\n",
       "      <td>35</td>\n",
       "      <td>STOP SIGN/FLASHER</td>\n",
       "      <td>FUNCTIONING PROPERLY</td>\n",
       "      <td>CLEAR</td>\n",
       "      <td>DAYLIGHT</td>\n",
       "      <td>TURNING</td>\n",
       "      <td>NOT DIVIDED</td>\n",
       "      <td>DRY</td>\n",
       "      <td>...</td>\n",
       "      <td>FAILING TO YIELD RIGHT-OF-WAY</td>\n",
       "      <td>2</td>\n",
       "      <td>0.0</td>\n",
       "      <td>0.0</td>\n",
       "      <td>0.0</td>\n",
       "      <td>0.0</td>\n",
       "      <td>0.0</td>\n",
       "      <td>16</td>\n",
       "      <td>6</td>\n",
       "      <td>6</td>\n",
       "    </tr>\n",
       "    <tr>\n",
       "      <th>2</th>\n",
       "      <td>ee9283eff3a55ac50ee58f3d9528ce1d689b1c4180b4c4...</td>\n",
       "      <td>7/10/20 10:25</td>\n",
       "      <td>30</td>\n",
       "      <td>TRAFFIC SIGNAL</td>\n",
       "      <td>FUNCTIONING PROPERLY</td>\n",
       "      <td>CLEAR</td>\n",
       "      <td>DAYLIGHT</td>\n",
       "      <td>REAR END</td>\n",
       "      <td>FOUR WAY</td>\n",
       "      <td>DRY</td>\n",
       "      <td>...</td>\n",
       "      <td>FAILING TO YIELD RIGHT-OF-WAY</td>\n",
       "      <td>3</td>\n",
       "      <td>0.0</td>\n",
       "      <td>0.0</td>\n",
       "      <td>0.0</td>\n",
       "      <td>0.0</td>\n",
       "      <td>0.0</td>\n",
       "      <td>10</td>\n",
       "      <td>6</td>\n",
       "      <td>7</td>\n",
       "    </tr>\n",
       "    <tr>\n",
       "      <th>3</th>\n",
       "      <td>f8960f698e870ebdc60b521b2a141a5395556bc3704191...</td>\n",
       "      <td>7/11/20 1:00</td>\n",
       "      <td>30</td>\n",
       "      <td>NO CONTROLS</td>\n",
       "      <td>NO CONTROLS</td>\n",
       "      <td>CLEAR</td>\n",
       "      <td>DARKNESS</td>\n",
       "      <td>PARKED MOTOR VEHICLE</td>\n",
       "      <td>DIVIDED - W/MEDIAN (NOT RAISED)</td>\n",
       "      <td>DRY</td>\n",
       "      <td>...</td>\n",
       "      <td>UNABLE TO DETERMINE</td>\n",
       "      <td>2</td>\n",
       "      <td>0.0</td>\n",
       "      <td>0.0</td>\n",
       "      <td>0.0</td>\n",
       "      <td>0.0</td>\n",
       "      <td>0.0</td>\n",
       "      <td>1</td>\n",
       "      <td>7</td>\n",
       "      <td>7</td>\n",
       "    </tr>\n",
       "    <tr>\n",
       "      <th>4</th>\n",
       "      <td>8eaa2678d1a127804ee9b8c35ddf7d63d913c14eda61d6...</td>\n",
       "      <td>7/8/20 14:00</td>\n",
       "      <td>20</td>\n",
       "      <td>NO CONTROLS</td>\n",
       "      <td>NO CONTROLS</td>\n",
       "      <td>CLEAR</td>\n",
       "      <td>DAYLIGHT</td>\n",
       "      <td>PARKED MOTOR VEHICLE</td>\n",
       "      <td>DRIVEWAY</td>\n",
       "      <td>DRY</td>\n",
       "      <td>...</td>\n",
       "      <td>UNABLE TO DETERMINE</td>\n",
       "      <td>2</td>\n",
       "      <td>0.0</td>\n",
       "      <td>0.0</td>\n",
       "      <td>0.0</td>\n",
       "      <td>0.0</td>\n",
       "      <td>0.0</td>\n",
       "      <td>14</td>\n",
       "      <td>4</td>\n",
       "      <td>7</td>\n",
       "    </tr>\n",
       "    <tr>\n",
       "      <th>5</th>\n",
       "      <td>00e47f189660cd8ba1e85fc63061bf1d8465184393f134...</td>\n",
       "      <td>3/21/19 22:50</td>\n",
       "      <td>30</td>\n",
       "      <td>TRAFFIC SIGNAL</td>\n",
       "      <td>FUNCTIONING PROPERLY</td>\n",
       "      <td>CLEAR</td>\n",
       "      <td>DARKNESS, LIGHTED ROAD</td>\n",
       "      <td>TURNING</td>\n",
       "      <td>NOT DIVIDED</td>\n",
       "      <td>DRY</td>\n",
       "      <td>...</td>\n",
       "      <td>UNABLE TO DETERMINE</td>\n",
       "      <td>2</td>\n",
       "      <td>0.0</td>\n",
       "      <td>0.0</td>\n",
       "      <td>0.0</td>\n",
       "      <td>0.0</td>\n",
       "      <td>0.0</td>\n",
       "      <td>22</td>\n",
       "      <td>5</td>\n",
       "      <td>3</td>\n",
       "    </tr>\n",
       "    <tr>\n",
       "      <th>6</th>\n",
       "      <td>0126747fc9ffc0edc9a38abb83d80034f897db0f739eef...</td>\n",
       "      <td>3/26/18 14:23</td>\n",
       "      <td>35</td>\n",
       "      <td>NO CONTROLS</td>\n",
       "      <td>NO CONTROLS</td>\n",
       "      <td>CLEAR</td>\n",
       "      <td>DAYLIGHT</td>\n",
       "      <td>PARKED MOTOR VEHICLE</td>\n",
       "      <td>NOT DIVIDED</td>\n",
       "      <td>DRY</td>\n",
       "      <td>...</td>\n",
       "      <td>UNABLE TO DETERMINE</td>\n",
       "      <td>2</td>\n",
       "      <td>0.0</td>\n",
       "      <td>0.0</td>\n",
       "      <td>0.0</td>\n",
       "      <td>0.0</td>\n",
       "      <td>0.0</td>\n",
       "      <td>14</td>\n",
       "      <td>2</td>\n",
       "      <td>3</td>\n",
       "    </tr>\n",
       "    <tr>\n",
       "      <th>7</th>\n",
       "      <td>f636d4a51a88015ac89031159b1f1952b8d92e49d11aeb...</td>\n",
       "      <td>7/10/20 22:20</td>\n",
       "      <td>30</td>\n",
       "      <td>NO CONTROLS</td>\n",
       "      <td>NO CONTROLS</td>\n",
       "      <td>CLEAR</td>\n",
       "      <td>DARKNESS, LIGHTED ROAD</td>\n",
       "      <td>SIDESWIPE OPPOSITE DIRECTION</td>\n",
       "      <td>NOT DIVIDED</td>\n",
       "      <td>DRY</td>\n",
       "      <td>...</td>\n",
       "      <td>OPERATING VEHICLE IN ERRATIC, RECKLESS, CARELE...</td>\n",
       "      <td>2</td>\n",
       "      <td>1.0</td>\n",
       "      <td>0.0</td>\n",
       "      <td>0.0</td>\n",
       "      <td>1.0</td>\n",
       "      <td>0.0</td>\n",
       "      <td>22</td>\n",
       "      <td>6</td>\n",
       "      <td>7</td>\n",
       "    </tr>\n",
       "    <tr>\n",
       "      <th>8</th>\n",
       "      <td>76aabcf7c2219a5c90259c96fe94b33834ddb53e0dbcd3...</td>\n",
       "      <td>7/9/20 17:06</td>\n",
       "      <td>10</td>\n",
       "      <td>NO CONTROLS</td>\n",
       "      <td>NO CONTROLS</td>\n",
       "      <td>CLEAR</td>\n",
       "      <td>DAYLIGHT</td>\n",
       "      <td>PARKED MOTOR VEHICLE</td>\n",
       "      <td>PARKING LOT</td>\n",
       "      <td>UNKNOWN</td>\n",
       "      <td>...</td>\n",
       "      <td>UNABLE TO DETERMINE</td>\n",
       "      <td>2</td>\n",
       "      <td>0.0</td>\n",
       "      <td>0.0</td>\n",
       "      <td>0.0</td>\n",
       "      <td>0.0</td>\n",
       "      <td>0.0</td>\n",
       "      <td>17</td>\n",
       "      <td>5</td>\n",
       "      <td>7</td>\n",
       "    </tr>\n",
       "    <tr>\n",
       "      <th>9</th>\n",
       "      <td>9c974548026c1b962569040bd8fa08ae643ffc28c15ebd...</td>\n",
       "      <td>6/29/20 17:55</td>\n",
       "      <td>10</td>\n",
       "      <td>OTHER</td>\n",
       "      <td>NO CONTROLS</td>\n",
       "      <td>CLOUDY/OVERCAST</td>\n",
       "      <td>DAWN</td>\n",
       "      <td>PARKED MOTOR VEHICLE</td>\n",
       "      <td>PARKING LOT</td>\n",
       "      <td>DRY</td>\n",
       "      <td>...</td>\n",
       "      <td>IMPROPER BACKING</td>\n",
       "      <td>2</td>\n",
       "      <td>0.0</td>\n",
       "      <td>0.0</td>\n",
       "      <td>0.0</td>\n",
       "      <td>0.0</td>\n",
       "      <td>0.0</td>\n",
       "      <td>17</td>\n",
       "      <td>2</td>\n",
       "      <td>6</td>\n",
       "    </tr>\n",
       "  </tbody>\n",
       "</table>\n",
       "<p>10 rows × 27 columns</p>\n",
       "</div>"
      ],
      "text/plain": [
       "                                     CRASH_RECORD_ID     CRASH_DATE  \\\n",
       "0  4fd0a3e0897b3335b94cd8d5b2d2b350eb691add56c62d...  7/10/19 17:56   \n",
       "1  009e9e67203442370272e1a13d6ee51a4155dac65e583d...  6/30/17 16:00   \n",
       "2  ee9283eff3a55ac50ee58f3d9528ce1d689b1c4180b4c4...  7/10/20 10:25   \n",
       "3  f8960f698e870ebdc60b521b2a141a5395556bc3704191...   7/11/20 1:00   \n",
       "4  8eaa2678d1a127804ee9b8c35ddf7d63d913c14eda61d6...   7/8/20 14:00   \n",
       "5  00e47f189660cd8ba1e85fc63061bf1d8465184393f134...  3/21/19 22:50   \n",
       "6  0126747fc9ffc0edc9a38abb83d80034f897db0f739eef...  3/26/18 14:23   \n",
       "7  f636d4a51a88015ac89031159b1f1952b8d92e49d11aeb...  7/10/20 22:20   \n",
       "8  76aabcf7c2219a5c90259c96fe94b33834ddb53e0dbcd3...   7/9/20 17:06   \n",
       "9  9c974548026c1b962569040bd8fa08ae643ffc28c15ebd...  6/29/20 17:55   \n",
       "\n",
       "   POSTED_SPEED_LIMIT TRAFFIC_CONTROL_DEVICE      DEVICE_CONDITION  \\\n",
       "0                  35            NO CONTROLS           NO CONTROLS   \n",
       "1                  35      STOP SIGN/FLASHER  FUNCTIONING PROPERLY   \n",
       "2                  30         TRAFFIC SIGNAL  FUNCTIONING PROPERLY   \n",
       "3                  30            NO CONTROLS           NO CONTROLS   \n",
       "4                  20            NO CONTROLS           NO CONTROLS   \n",
       "5                  30         TRAFFIC SIGNAL  FUNCTIONING PROPERLY   \n",
       "6                  35            NO CONTROLS           NO CONTROLS   \n",
       "7                  30            NO CONTROLS           NO CONTROLS   \n",
       "8                  10            NO CONTROLS           NO CONTROLS   \n",
       "9                  10                  OTHER           NO CONTROLS   \n",
       "\n",
       "  WEATHER_CONDITION      LIGHTING_CONDITION              FIRST_CRASH_TYPE  \\\n",
       "0             CLEAR                DAYLIGHT                       TURNING   \n",
       "1             CLEAR                DAYLIGHT                       TURNING   \n",
       "2             CLEAR                DAYLIGHT                      REAR END   \n",
       "3             CLEAR                DARKNESS          PARKED MOTOR VEHICLE   \n",
       "4             CLEAR                DAYLIGHT          PARKED MOTOR VEHICLE   \n",
       "5             CLEAR  DARKNESS, LIGHTED ROAD                       TURNING   \n",
       "6             CLEAR                DAYLIGHT          PARKED MOTOR VEHICLE   \n",
       "7             CLEAR  DARKNESS, LIGHTED ROAD  SIDESWIPE OPPOSITE DIRECTION   \n",
       "8             CLEAR                DAYLIGHT          PARKED MOTOR VEHICLE   \n",
       "9   CLOUDY/OVERCAST                    DAWN          PARKED MOTOR VEHICLE   \n",
       "\n",
       "                   TRAFFICWAY_TYPE ROADWAY_SURFACE_COND  ...  \\\n",
       "0                          ONE-WAY                  DRY  ...   \n",
       "1                      NOT DIVIDED                  DRY  ...   \n",
       "2                         FOUR WAY                  DRY  ...   \n",
       "3  DIVIDED - W/MEDIAN (NOT RAISED)                  DRY  ...   \n",
       "4                         DRIVEWAY                  DRY  ...   \n",
       "5                      NOT DIVIDED                  DRY  ...   \n",
       "6                      NOT DIVIDED                  DRY  ...   \n",
       "7                      NOT DIVIDED                  DRY  ...   \n",
       "8                      PARKING LOT              UNKNOWN  ...   \n",
       "9                      PARKING LOT                  DRY  ...   \n",
       "\n",
       "                             PRIM_CONTRIBUTORY_CAUSE NUM_UNITS INJURIES_TOTAL  \\\n",
       "0                                   IMPROPER BACKING         2            0.0   \n",
       "1                      FAILING TO YIELD RIGHT-OF-WAY         2            0.0   \n",
       "2                      FAILING TO YIELD RIGHT-OF-WAY         3            0.0   \n",
       "3                                UNABLE TO DETERMINE         2            0.0   \n",
       "4                                UNABLE TO DETERMINE         2            0.0   \n",
       "5                                UNABLE TO DETERMINE         2            0.0   \n",
       "6                                UNABLE TO DETERMINE         2            0.0   \n",
       "7  OPERATING VEHICLE IN ERRATIC, RECKLESS, CARELE...         2            1.0   \n",
       "8                                UNABLE TO DETERMINE         2            0.0   \n",
       "9                                   IMPROPER BACKING         2            0.0   \n",
       "\n",
       "  INJURIES_FATAL INJURIES_INCAPACITATING INJURIES_NON_INCAPACITATING  \\\n",
       "0            0.0                     0.0                         0.0   \n",
       "1            0.0                     0.0                         0.0   \n",
       "2            0.0                     0.0                         0.0   \n",
       "3            0.0                     0.0                         0.0   \n",
       "4            0.0                     0.0                         0.0   \n",
       "5            0.0                     0.0                         0.0   \n",
       "6            0.0                     0.0                         0.0   \n",
       "7            0.0                     0.0                         1.0   \n",
       "8            0.0                     0.0                         0.0   \n",
       "9            0.0                     0.0                         0.0   \n",
       "\n",
       "  INJURIES_REPORTED_NOT_EVIDENT CRASH_HOUR  CRASH_DAY_OF_WEEK  CRASH_MONTH  \n",
       "0                           0.0         17                  4            7  \n",
       "1                           0.0         16                  6            6  \n",
       "2                           0.0         10                  6            7  \n",
       "3                           0.0          1                  7            7  \n",
       "4                           0.0         14                  4            7  \n",
       "5                           0.0         22                  5            3  \n",
       "6                           0.0         14                  2            3  \n",
       "7                           0.0         22                  6            7  \n",
       "8                           0.0         17                  5            7  \n",
       "9                           0.0         17                  2            6  \n",
       "\n",
       "[10 rows x 27 columns]"
      ]
     },
     "execution_count": 2,
     "metadata": {},
     "output_type": "execute_result"
    }
   ],
   "source": [
    "df = pd.read_csv('Traffic_Crashes_-_Crashes.csv')\n",
    "df.head(10)"
   ]
  },
  {
   "cell_type": "markdown",
   "id": "3d4f5e96",
   "metadata": {},
   "source": [
    "# 1. Handling missing values and extra attributes."
   ]
  },
  {
   "cell_type": "markdown",
   "id": "b483e069",
   "metadata": {},
   "source": [
    "#### Finding number of null values in every attribute."
   ]
  },
  {
   "cell_type": "code",
   "execution_count": 3,
   "id": "56131e86",
   "metadata": {},
   "outputs": [
    {
     "name": "stdout",
     "output_type": "stream",
     "text": [
      "CRASH_RECORD_ID                       0\n",
      "CRASH_DATE                            0\n",
      "POSTED_SPEED_LIMIT                    0\n",
      "TRAFFIC_CONTROL_DEVICE                0\n",
      "DEVICE_CONDITION                      0\n",
      "WEATHER_CONDITION                     0\n",
      "LIGHTING_CONDITION                    0\n",
      "FIRST_CRASH_TYPE                      0\n",
      "TRAFFICWAY_TYPE                       0\n",
      "ROADWAY_SURFACE_COND                  0\n",
      "ROAD_DEFECT                           0\n",
      "CRASH_TYPE                            0\n",
      "INTERSECTION_RELATED_I           372958\n",
      "NOT_RIGHT_OF_WAY                 458971\n",
      "HIT_AND_RUN_I                    340155\n",
      "DAMAGE                                0\n",
      "DATE_POLICE_NOTIFIED                  0\n",
      "PRIM_CONTRIBUTORY_CAUSE               0\n",
      "NUM_UNITS                             0\n",
      "INJURIES_TOTAL                      964\n",
      "INJURIES_FATAL                      964\n",
      "INJURIES_INCAPACITATING             964\n",
      "INJURIES_NON_INCAPACITATING         964\n",
      "INJURIES_REPORTED_NOT_EVIDENT       964\n",
      "CRASH_HOUR                            0\n",
      "CRASH_DAY_OF_WEEK                     0\n",
      "CRASH_MONTH                           0\n",
      "dtype: int64\n"
     ]
    }
   ],
   "source": [
    "no_of_missing = df.isna().sum()\n",
    "print(no_of_missing)"
   ]
  },
  {
   "cell_type": "markdown",
   "id": "18c47800",
   "metadata": {},
   "source": [
    "#### Finding percentage of null values in every attribute."
   ]
  },
  {
   "cell_type": "code",
   "execution_count": 4,
   "id": "8f172a06",
   "metadata": {},
   "outputs": [
    {
     "name": "stdout",
     "output_type": "stream",
     "text": [
      "CRASH_RECORD_ID                   0.000000\n",
      "CRASH_DATE                        0.000000\n",
      "POSTED_SPEED_LIMIT                0.000000\n",
      "TRAFFIC_CONTROL_DEVICE            0.000000\n",
      "DEVICE_CONDITION                  0.000000\n",
      "WEATHER_CONDITION                 0.000000\n",
      "LIGHTING_CONDITION                0.000000\n",
      "FIRST_CRASH_TYPE                  0.000000\n",
      "TRAFFICWAY_TYPE                   0.000000\n",
      "ROADWAY_SURFACE_COND              0.000000\n",
      "ROAD_DEFECT                       0.000000\n",
      "CRASH_TYPE                        0.000000\n",
      "INTERSECTION_RELATED_I           77.437747\n",
      "NOT_RIGHT_OF_WAY                 95.296736\n",
      "HIT_AND_RUN_I                    70.626818\n",
      "DAMAGE                            0.000000\n",
      "DATE_POLICE_NOTIFIED              0.000000\n",
      "PRIM_CONTRIBUTORY_CAUSE           0.000000\n",
      "NUM_UNITS                         0.000000\n",
      "INJURIES_TOTAL                    0.200157\n",
      "INJURIES_FATAL                    0.200157\n",
      "INJURIES_INCAPACITATING           0.200157\n",
      "INJURIES_NON_INCAPACITATING       0.200157\n",
      "INJURIES_REPORTED_NOT_EVIDENT     0.200157\n",
      "CRASH_HOUR                        0.000000\n",
      "CRASH_DAY_OF_WEEK                 0.000000\n",
      "CRASH_MONTH                       0.000000\n",
      "dtype: float64\n"
     ]
    }
   ],
   "source": [
    "percent_of_missing = df.isnull().sum() * 100 / len(df)\n",
    "print(percent_of_missing)"
   ]
  },
  {
   "cell_type": "markdown",
   "id": "6ef9b7aa",
   "metadata": {},
   "source": [
    "#### For columns with object values replace missing values with 'Not_Available'\n"
   ]
  },
  {
   "cell_type": "code",
   "execution_count": 5,
   "id": "b30fcead",
   "metadata": {},
   "outputs": [
    {
     "data": {
      "text/plain": [
       "CRASH_RECORD_ID                   object\n",
       "CRASH_DATE                        object\n",
       "POSTED_SPEED_LIMIT                 int64\n",
       "TRAFFIC_CONTROL_DEVICE            object\n",
       "DEVICE_CONDITION                  object\n",
       "WEATHER_CONDITION                 object\n",
       "LIGHTING_CONDITION                object\n",
       "FIRST_CRASH_TYPE                  object\n",
       "TRAFFICWAY_TYPE                   object\n",
       "ROADWAY_SURFACE_COND              object\n",
       "ROAD_DEFECT                       object\n",
       "CRASH_TYPE                        object\n",
       "INTERSECTION_RELATED_I            object\n",
       "NOT_RIGHT_OF_WAY                  object\n",
       "HIT_AND_RUN_I                     object\n",
       "DAMAGE                            object\n",
       "DATE_POLICE_NOTIFIED              object\n",
       "PRIM_CONTRIBUTORY_CAUSE           object\n",
       "NUM_UNITS                          int64\n",
       "INJURIES_TOTAL                   float64\n",
       "INJURIES_FATAL                   float64\n",
       "INJURIES_INCAPACITATING          float64\n",
       "INJURIES_NON_INCAPACITATING      float64\n",
       "INJURIES_REPORTED_NOT_EVIDENT    float64\n",
       "CRASH_HOUR                         int64\n",
       "CRASH_DAY_OF_WEEK                  int64\n",
       "CRASH_MONTH                        int64\n",
       "dtype: object"
      ]
     },
     "execution_count": 5,
     "metadata": {},
     "output_type": "execute_result"
    }
   ],
   "source": [
    "df.dtypes"
   ]
  },
  {
   "cell_type": "code",
   "execution_count": 6,
   "id": "84c6fde5",
   "metadata": {},
   "outputs": [],
   "source": [
    "df['INTERSECTION_RELATED_I'].fillna('Not_Available',inplace =True)\n",
    "df['NOT_RIGHT_OF_WAY'].fillna('Not_Available',inplace =True)\n",
    "df['HIT_AND_RUN_I'].fillna('Not_Available',inplace =True)"
   ]
  },
  {
   "cell_type": "markdown",
   "id": "d0cdf07c",
   "metadata": {},
   "source": [
    "#### For columns with float values replace missing values with mode of the column"
   ]
  },
  {
   "cell_type": "code",
   "execution_count": 7,
   "id": "9a71bdab",
   "metadata": {},
   "outputs": [],
   "source": [
    "df['INJURIES_TOTAL'].fillna(df['INJURIES_TOTAL'].mode()[0], inplace = True)\n",
    "df['INJURIES_FATAL'].fillna(df['INJURIES_FATAL'].mode()[0], inplace = True)\n",
    "df['INJURIES_INCAPACITATING'].fillna(df['INJURIES_INCAPACITATING'].mode()[0], inplace = True)\n",
    "df['INJURIES_NON_INCAPACITATING'].fillna(df['INJURIES_NON_INCAPACITATING'].mode()[0], inplace = True)\n",
    "df['INJURIES_REPORTED_NOT_EVIDENT'].fillna(df['INJURIES_REPORTED_NOT_EVIDENT'].mode()[0], inplace = True)"
   ]
  },
  {
   "cell_type": "code",
   "execution_count": 8,
   "id": "3aa31264",
   "metadata": {},
   "outputs": [
    {
     "name": "stdout",
     "output_type": "stream",
     "text": [
      "CRASH_RECORD_ID                  0\n",
      "CRASH_DATE                       0\n",
      "POSTED_SPEED_LIMIT               0\n",
      "TRAFFIC_CONTROL_DEVICE           0\n",
      "DEVICE_CONDITION                 0\n",
      "WEATHER_CONDITION                0\n",
      "LIGHTING_CONDITION               0\n",
      "FIRST_CRASH_TYPE                 0\n",
      "TRAFFICWAY_TYPE                  0\n",
      "ROADWAY_SURFACE_COND             0\n",
      "ROAD_DEFECT                      0\n",
      "CRASH_TYPE                       0\n",
      "INTERSECTION_RELATED_I           0\n",
      "NOT_RIGHT_OF_WAY                 0\n",
      "HIT_AND_RUN_I                    0\n",
      "DAMAGE                           0\n",
      "DATE_POLICE_NOTIFIED             0\n",
      "PRIM_CONTRIBUTORY_CAUSE          0\n",
      "NUM_UNITS                        0\n",
      "INJURIES_TOTAL                   0\n",
      "INJURIES_FATAL                   0\n",
      "INJURIES_INCAPACITATING          0\n",
      "INJURIES_NON_INCAPACITATING      0\n",
      "INJURIES_REPORTED_NOT_EVIDENT    0\n",
      "CRASH_HOUR                       0\n",
      "CRASH_DAY_OF_WEEK                0\n",
      "CRASH_MONTH                      0\n",
      "dtype: int64\n"
     ]
    }
   ],
   "source": [
    "no_missing= df.isna().sum()\n",
    "print(no_missing)"
   ]
  },
  {
   "cell_type": "markdown",
   "id": "09cb00d6",
   "metadata": {},
   "source": [
    "# 2. Breaking some attributes into multiple useful attributes."
   ]
  },
  {
   "cell_type": "code",
   "execution_count": 9,
   "id": "b1a50d22",
   "metadata": {},
   "outputs": [],
   "source": [
    "#extracting crash year from column \"CRASH_DATE\"\n",
    "df['CRASH_DATE'] = pd.to_datetime(df['CRASH_DATE'])\n",
    "df['CRASH_YEAR'] = df['CRASH_DATE'].dt.year"
   ]
  },
  {
   "cell_type": "code",
   "execution_count": 10,
   "id": "f5449f93",
   "metadata": {},
   "outputs": [],
   "source": [
    "#Breaking column \"DATE_POLICE_NOTIFIED\" into date,time,hour and minute attributes\n",
    "df['DATE_POLICE_NOTIFIED'] = pd.to_datetime(df['DATE_POLICE_NOTIFIED'])\n",
    "df['NOTIFIED_DATE'] = df['DATE_POLICE_NOTIFIED'].dt.date \n",
    "df['NOTIFIED_TIME'] = df['DATE_POLICE_NOTIFIED'].dt.time \n",
    "df['NOTIFIED_HOUR'] = df['DATE_POLICE_NOTIFIED'].dt.hour \n",
    "df['NOTIFIED_MINUTE'] = df['DATE_POLICE_NOTIFIED'].dt.minute"
   ]
  },
  {
   "cell_type": "code",
   "execution_count": 11,
   "id": "aab33283",
   "metadata": {},
   "outputs": [
    {
     "name": "stdout",
     "output_type": "stream",
     "text": [
      "0     July\n",
      "1     June\n",
      "2     July\n",
      "3     July\n",
      "4     July\n",
      "5    March\n",
      "6    March\n",
      "7     July\n",
      "8     July\n",
      "9     June\n",
      "Name: CRASH_MONTH, dtype: object\n"
     ]
    }
   ],
   "source": [
    "#Labelling integer values in column \"CRASH_MONTH\" with respective month names\n",
    "df['CRASH_MONTH'] = df['CRASH_MONTH'].apply(lambda x : 'January' if x==1\n",
    "                                                else('February' if x==2 \n",
    "                                                else('March' if x==3 \n",
    "                                                else('April' if x==4 \n",
    "                                                else('May' if x==5 \n",
    "                                                else('June' if x==6 \n",
    "                                                else('July' if x==7 \n",
    "                                                else('August' if x==8 \n",
    "                                                else('September' if x==9 \n",
    "                                                else('October' if x==10 \n",
    "                                                else('November' if x==11 \n",
    "                                                else('December' if x==12 else 'invalid'))))))))))))\n",
    "print(df['CRASH_MONTH'].head(10))"
   ]
  },
  {
   "cell_type": "code",
   "execution_count": 12,
   "id": "c0a55ad0",
   "metadata": {},
   "outputs": [
    {
     "name": "stdout",
     "output_type": "stream",
     "text": [
      "0    Thursday\n",
      "1    Saturday\n",
      "2    Saturday\n",
      "3      Sunday\n",
      "4    Thursday\n",
      "5      Friday\n",
      "6     Tuesday\n",
      "7    Saturday\n",
      "8      Friday\n",
      "9     Tuesday\n",
      "Name: CRASH_DAY_OF_WEEK, dtype: object\n"
     ]
    }
   ],
   "source": [
    "#Labelling integer values in column \"CRASH_WEEK\" with respective week names\n",
    "df['CRASH_DAY_OF_WEEK'] = df['CRASH_DAY_OF_WEEK'].apply(lambda x : 'Monday' if x==1\n",
    "                                                            else('Tuesday' if x==2 \n",
    "                                                            else('Wednesday' if x==3 \n",
    "                                                            else('Thursday' if x==4 \n",
    "                                                            else('Friday' if x==5 \n",
    "                                                            else('Saturday' if x==6 \n",
    "                                                            else('Sunday' if x==7  else 'invalid')))))))\n",
    "print(df['CRASH_DAY_OF_WEEK'].head(10))"
   ]
  },
  {
   "cell_type": "code",
   "execution_count": 13,
   "id": "54692f40",
   "metadata": {},
   "outputs": [
    {
     "name": "stdout",
     "output_type": "stream",
     "text": [
      "0      Day\n",
      "1      Day\n",
      "2      Day\n",
      "3    Night\n",
      "4      Day\n",
      "5    Night\n",
      "6      Day\n",
      "7    Night\n",
      "8      Day\n",
      "9      Day\n",
      "Name: CRASH_DAY/NIGHT, dtype: object\n"
     ]
    }
   ],
   "source": [
    "#Based on crash hour create day and night attribute\n",
    "df['CRASH_DAY/NIGHT'] = df['CRASH_HOUR'].apply(lambda x :'Day' if (x >= 8) and (x <= 18) else 'Night')\n",
    "print(df['CRASH_DAY/NIGHT'].head(10))"
   ]
  },
  {
   "cell_type": "code",
   "execution_count": 14,
   "id": "db9cc16d",
   "metadata": {},
   "outputs": [
    {
     "data": {
      "text/plain": [
       "0    Summer\n",
       "1    Summer\n",
       "2    Summer\n",
       "3    Summer\n",
       "4    Summer\n",
       "5    Spring\n",
       "6    Spring\n",
       "7    Summer\n",
       "8    Summer\n",
       "9    Summer\n",
       "Name: CRASH_SEASON, dtype: object"
      ]
     },
     "execution_count": 14,
     "metadata": {},
     "output_type": "execute_result"
    }
   ],
   "source": [
    "#Based month create season attribute\n",
    "df['CRASH_SEASON'] = df['CRASH_MONTH'].apply(lambda x : 'Winter' if x == 'December'\n",
    "                                                else('Winter' if x == 'January' \n",
    "                                                else('Winter' if x == 'February' \n",
    "                                                else('Spring' if x == 'March'\n",
    "                                                else('Spring' if x == 'April' \n",
    "                                                else('Spring' if x=='May' \n",
    "                                                else('Summer' if x=='June' \n",
    "                                                else('Summer' if x=='July' \n",
    "                                                else('Summer' if x=='August' \n",
    "                                                else('Fall' if x=='September' \n",
    "                                                else('Fall' if x=='October' \n",
    "                                                else('Fall' if x=='November' else 'invalid'))))))))))))\n",
    "df['CRASH_SEASON'].head(10)"
   ]
  },
  {
   "cell_type": "markdown",
   "id": "6ee4c887",
   "metadata": {},
   "source": [
    "# 3.  Insights on relation between crashes and day time attributes"
   ]
  },
  {
   "cell_type": "code",
   "execution_count": 15,
   "id": "5b170ef4",
   "metadata": {},
   "outputs": [
    {
     "data": {
      "text/plain": [
       "CRASH_SEASON\n",
       "Fall      132732\n",
       "Spring    102120\n",
       "Summer    120098\n",
       "Winter    126673\n",
       "dtype: int64"
      ]
     },
     "execution_count": 15,
     "metadata": {},
     "output_type": "execute_result"
    },
    {
     "data": {
      "image/png": "[encoded data removed]",
      "text/plain": [
       "<Figure size 432x288 with 1 Axes>"
      ]
     },
     "metadata": {
      "needs_background": "light"
     },
     "output_type": "display_data"
    }
   ],
   "source": [
    "plot1 = df.groupby(\"CRASH_SEASON\").size() \n",
    "plt.ylabel(\"Number of crashes\")\n",
    "plt.title(\"Crashes per Season\")\n",
    "plot1.plot.bar();\n",
    "plot1"
   ]
  },
  {
   "cell_type": "markdown",
   "id": "16c8b8aa",
   "metadata": {},
   "source": [
    "Crashes are frequent during the fall season"
   ]
  },
  {
   "cell_type": "code",
   "execution_count": 16,
   "id": "b618f3c1",
   "metadata": {},
   "outputs": [
    {
     "data": {
      "text/plain": [
       "CRASH_DAY_OF_WEEK\n",
       "Friday       69166\n",
       "Monday       58214\n",
       "Saturday     78314\n",
       "Sunday       71223\n",
       "Thursday     68599\n",
       "Tuesday      66887\n",
       "Wednesday    69220\n",
       "dtype: int64"
      ]
     },
     "execution_count": 16,
     "metadata": {},
     "output_type": "execute_result"
    },
    {
     "data": {
      "image/png": "[encoded data removed]",
      "text/plain": [
       "<Figure size 432x288 with 1 Axes>"
      ]
     },
     "metadata": {
      "needs_background": "light"
     },
     "output_type": "display_data"
    }
   ],
   "source": [
    "plot2 = df.groupby(\"CRASH_DAY_OF_WEEK\").size()\n",
    "plt.ylabel(\"Number of crashes\")\n",
    "plt.title(\"Crashes per day of week\")\n",
    "plot2.plot.bar();\n",
    "plot2"
   ]
  },
  {
   "cell_type": "markdown",
   "id": "85570b6e",
   "metadata": {},
   "source": [
    "Crashes are frequent during the weekends"
   ]
  },
  {
   "cell_type": "code",
   "execution_count": 17,
   "id": "66c83e2c",
   "metadata": {},
   "outputs": [
    {
     "data": {
      "text/plain": [
       "CRASH_DAY/NIGHT\n",
       "Day      326173\n",
       "Night    155450\n",
       "dtype: int64"
      ]
     },
     "execution_count": 17,
     "metadata": {},
     "output_type": "execute_result"
    },
    {
     "data": {
      "image/png": "[encoded data removed]",
      "text/plain": [
       "<Figure size 432x288 with 1 Axes>"
      ]
     },
     "metadata": {
      "needs_background": "light"
     },
     "output_type": "display_data"
    }
   ],
   "source": [
    "plot3 = df.groupby(\"CRASH_DAY/NIGHT\").size() \n",
    "plt.ylabel(\"Number of crashes\")\n",
    "plt.title(\"Crashes during Day and Night\")\n",
    "plot3.plot.bar();\n",
    "plot3"
   ]
  },
  {
   "cell_type": "markdown",
   "id": "885e3342",
   "metadata": {},
   "source": [
    "Crashes are frequent during the day"
   ]
  },
  {
   "cell_type": "code",
   "execution_count": 18,
   "id": "874b219d",
   "metadata": {},
   "outputs": [
    {
     "data": {
      "text/plain": [
       "LIGHTING_CONDITION\n",
       "DARKNESS                   24705\n",
       "DARKNESS, LIGHTED ROAD    104033\n",
       "DAWN                        8381\n",
       "DAYLIGHT                  312024\n",
       "DUSK                       14880\n",
       "UNKNOWN                    17600\n",
       "dtype: int64"
      ]
     },
     "execution_count": 18,
     "metadata": {},
     "output_type": "execute_result"
    },
    {
     "data": {
      "image/png": "[encoded data removed]",
      "text/plain": [
       "<Figure size 432x288 with 1 Axes>"
      ]
     },
     "metadata": {
      "needs_background": "light"
     },
     "output_type": "display_data"
    }
   ],
   "source": [
    "plot4 = df.groupby(\"LIGHTING_CONDITION\").size() \n",
    "plt.ylabel(\"Number of crashes\")\n",
    "plt.title(\"Crashes based on lighting condition\")\n",
    "plot4.plot.bar();\n",
    "plot4"
   ]
  },
  {
   "cell_type": "markdown",
   "id": "658ab449",
   "metadata": {},
   "source": [
    "Crashes are frequent during the day light lighting conditions"
   ]
  },
  {
   "cell_type": "code",
   "execution_count": 19,
   "id": "34f8bcbf",
   "metadata": {},
   "outputs": [
    {
     "data": {
      "text/plain": [
       "WEATHER_CONDITION\n",
       "BLOWING SAND, SOIL, DIRT         2\n",
       "BLOWING SNOW                   161\n",
       "CLEAR                       379417\n",
       "CLOUDY/OVERCAST              14410\n",
       "FOG/SMOKE/HAZE                 824\n",
       "FREEZING RAIN/DRIZZLE          574\n",
       "OTHER                         1564\n",
       "RAIN                         42770\n",
       "SEVERE CROSS WIND GATE          98\n",
       "SLEET/HAIL                     716\n",
       "SNOW                         20114\n",
       "UNKNOWN                      20973\n",
       "dtype: int64"
      ]
     },
     "execution_count": 19,
     "metadata": {},
     "output_type": "execute_result"
    },
    {
     "data": {
      "image/png": "[encoded data removed]",
      "text/plain": [
       "<Figure size 432x288 with 1 Axes>"
      ]
     },
     "metadata": {
      "needs_background": "light"
     },
     "output_type": "display_data"
    }
   ],
   "source": [
    "plot5 = df.groupby(\"WEATHER_CONDITION\").size() \n",
    "plt.ylabel(\"Number of crashes\")\n",
    "plt.title(\"Crashes based on weather condition\")\n",
    "plot5.plot.bar();\n",
    "plot5"
   ]
  },
  {
   "cell_type": "markdown",
   "id": "8a2f4015",
   "metadata": {},
   "source": [
    "Crashes are frequent when the weather conditions indicate clear skies and least when there is blowing sand, soil and dust"
   ]
  },
  {
   "cell_type": "code",
   "execution_count": 20,
   "id": "c1fbc89f",
   "metadata": {},
   "outputs": [
    {
     "data": {
      "text/plain": [
       "CRASH_MONTH\n",
       "April        31451\n",
       "March        33761\n",
       "May          36908\n",
       "June         38035\n",
       "July         40157\n",
       "February     40897\n",
       "January      41513\n",
       "August       41906\n",
       "November     42913\n",
       "September    43301\n",
       "December     44263\n",
       "October      46518\n",
       "dtype: int64"
      ]
     },
     "execution_count": 20,
     "metadata": {},
     "output_type": "execute_result"
    },
    {
     "data": {
      "image/png": "[encoded data removed]",
      "text/plain": [
       "<Figure size 432x288 with 1 Axes>"
      ]
     },
     "metadata": {
      "needs_background": "light"
     },
     "output_type": "display_data"
    }
   ],
   "source": [
    "plot6 = df.groupby(\"CRASH_MONTH\").size().sort_values(ascending = True) \n",
    "plt.ylabel(\"Number of crashes\")\n",
    "plt.title(\"Crashes per Month\")\n",
    "plot6.plot.bar();\n",
    "plot6"
   ]
  },
  {
   "cell_type": "markdown",
   "id": "df771568",
   "metadata": {},
   "source": [
    "Crashes are frequent in the month of October and least during the month of April"
   ]
  },
  {
   "cell_type": "markdown",
   "id": "9aeeef7e",
   "metadata": {},
   "source": [
    "# 4. Trend in number of deadly crashes over the years"
   ]
  },
  {
   "cell_type": "code",
   "execution_count": 21,
   "id": "68d77d7e",
   "metadata": {},
   "outputs": [
    {
     "data": {
      "image/png": "[encoded data removed]",
      "text/plain": [
       "<Figure size 864x576 with 1 Axes>"
      ]
     },
     "metadata": {
      "needs_background": "light"
     },
     "output_type": "display_data"
    }
   ],
   "source": [
    "deadly_crashes = df.groupby(\"CRASH_YEAR\").sum()['INJURIES_FATAL']\n",
    "plt.ylabel(\"Number of Crashes\")\n",
    "plt.title(\"Deadly crashes over the years\")\n",
    "deadly_crashes.plot.line(color='Red',figsize =(12,8));"
   ]
  },
  {
   "cell_type": "markdown",
   "id": "f29d72a4",
   "metadata": {},
   "source": [
    "There is insufficient data for the year 2021. Nevertheless, there is significant increase in the number of deadly crashes from 2016 to 2018 and also in the time period 2019-2020."
   ]
  },
  {
   "cell_type": "markdown",
   "id": "fb6bd157",
   "metadata": {},
   "source": [
    "# 5. Number and type of injuries based on the speed limit."
   ]
  },
  {
   "cell_type": "code",
   "execution_count": 22,
   "id": "cb8663b0",
   "metadata": {},
   "outputs": [
    {
     "name": "stdout",
     "output_type": "stream",
     "text": [
      "             INJURIES_FATAL  INJURIES_INCAPACITATING  \\\n",
      "SPEED_LIMIT                                            \n",
      "0-10                    6.0                     80.0   \n",
      "11-20                  23.0                    340.0   \n",
      "21-30                 410.0                   7421.0   \n",
      "31-40                  60.0                   1185.0   \n",
      "41-50                   8.0                    118.0   \n",
      "51-60                   0.0                     15.0   \n",
      "61-70                   0.0                      1.0   \n",
      "71-80                   0.0                      0.0   \n",
      "81-90                   0.0                      0.0   \n",
      "91-100                  0.0                      0.0   \n",
      "\n",
      "             INJURIES_NON_INCAPACITATING  INJURIES_REPORTED_NOT_EVIDENT  \n",
      "SPEED_LIMIT                                                              \n",
      "0-10                               356.0                          249.0  \n",
      "11-20                             1680.0                          972.0  \n",
      "21-30                            38878.0                        23360.0  \n",
      "31-40                             5233.0                         2839.0  \n",
      "41-50                              409.0                          305.0  \n",
      "51-60                               69.0                           24.0  \n",
      "61-70                                5.0                            2.0  \n",
      "71-80                                0.0                            0.0  \n",
      "81-90                                0.0                            0.0  \n",
      "91-100                               0.0                            5.0  \n"
     ]
    },
    {
     "data": {
      "image/png": "[encoded data removed]",
      "text/plain": [
       "<Figure size 864x576 with 1 Axes>"
      ]
     },
     "metadata": {
      "needs_background": "light"
     },
     "output_type": "display_data"
    }
   ],
   "source": [
    "#Considering speed in intervals of 10 \n",
    "bins = [0,10,20,30,40,50,60,70,80,90,100]\n",
    "labels = ['0-10', '11-20', '21-30', '31-40','41-50','51-60','61-70','71-80','81-90','91-100']\n",
    "df['SPEED_LIMIT'] = pd.cut(df['POSTED_SPEED_LIMIT'], bins=bins, labels=labels)\n",
    "\n",
    "#PLOT\n",
    "injuries = ['INJURIES_FATAL', 'INJURIES_INCAPACITATING', 'INJURIES_NON_INCAPACITATING','INJURIES_REPORTED_NOT_EVIDENT']\n",
    "inj = df.groupby('SPEED_LIMIT').sum()[injuries]\n",
    "print(inj.head(10))\n",
    "inj.plot(xlabel = 'SPEED_LIMIT', ylabel = 'Number of Injuries', kind = 'bar', figsize = (12, 8));\n"
   ]
  },
  {
   "cell_type": "markdown",
   "id": "9a226795",
   "metadata": {},
   "source": [
    "Speed Interval 21-30 has the highest number of injuries in all categories. Also, non-incapacitating injuries are highest in this speed interval."
   ]
  },
  {
   "cell_type": "markdown",
   "id": "911e28f7",
   "metadata": {},
   "source": [
    "# 6. Relationship between hit and run crashes and number of fatal injuries?"
   ]
  },
  {
   "cell_type": "code",
   "execution_count": 23,
   "id": "11fe16b5",
   "metadata": {},
   "outputs": [
    {
     "data": {
      "text/plain": [
       "HIT_AND_RUN_I\n",
       "N     7.0\n",
       "Y    82.0\n",
       "Name: INJURIES_FATAL, dtype: float64"
      ]
     },
     "execution_count": 23,
     "metadata": {},
     "output_type": "execute_result"
    },
    {
     "data": {
      "image/png": "[encoded data removed]",
      "text/plain": [
       "<Figure size 432x288 with 1 Axes>"
      ]
     },
     "metadata": {},
     "output_type": "display_data"
    }
   ],
   "source": [
    "fatal = df.groupby('HIT_AND_RUN_I').sum()['INJURIES_FATAL']\n",
    "fatal.drop('Not_Available', inplace = True)\n",
    "fatal.plot(kind='pie');\n",
    "fatal"
   ]
  },
  {
   "cell_type": "markdown",
   "id": "6d42ced9",
   "metadata": {},
   "source": [
    "The above pie chart shows that there is a relationship between hit and run crashes and number of fatal injuries"
   ]
  },
  {
   "cell_type": "markdown",
   "id": "b70db18b",
   "metadata": {},
   "source": [
    "# 7. Relation of fatal injuries to intersection-related crashes "
   ]
  },
  {
   "cell_type": "code",
   "execution_count": 24,
   "id": "8483365c",
   "metadata": {},
   "outputs": [
    {
     "name": "stdout",
     "output_type": "stream",
     "text": [
      "Fatal injuries from intersection related crashes: 167.0\n",
      "Fatal injuries from not right of way crashes: 42.0\n",
      "Fatal injuries from hit and run crashes: 82.0\n"
     ]
    }
   ],
   "source": [
    "a = df.loc[df['INTERSECTION_RELATED_I'] == 'Y']\n",
    "b = df.loc[df['NOT_RIGHT_OF_WAY'] == 'Y']\n",
    "c = df.loc[df['HIT_AND_RUN_I'] == 'Y']\n",
    "m = a['INJURIES_FATAL'].sum()\n",
    "n = b['INJURIES_FATAL'].sum()\n",
    "p = c['INJURIES_FATAL'].sum()\n",
    "\n",
    "print(\"Fatal injuries from intersection related crashes:\",m)\n",
    "print(\"Fatal injuries from not right of way crashes:\",n)     \n",
    "print(\"Fatal injuries from hit and run crashes:\",p)\n"
   ]
  },
  {
   "cell_type": "markdown",
   "id": "fbc322ae",
   "metadata": {},
   "source": [
    "From the above observation we can say that fatal injuries from intersection relates crashes are infact high when compared to other type of crashes"
   ]
  },
  {
   "cell_type": "code",
   "execution_count": 25,
   "id": "c1ead5ca",
   "metadata": {},
   "outputs": [
    {
     "data": {
      "text/plain": [
       "INTERSECTION_RELATED_I\n",
       "N     10.0\n",
       "Y    167.0\n",
       "Name: INJURIES_FATAL, dtype: float64"
      ]
     },
     "execution_count": 25,
     "metadata": {},
     "output_type": "execute_result"
    },
    {
     "data": {
      "image/png": "[encoded data removed]",
      "text/plain": [
       "<Figure size 432x288 with 1 Axes>"
      ]
     },
     "metadata": {},
     "output_type": "display_data"
    }
   ],
   "source": [
    "#PLOT\n",
    "intersection_plot = df.groupby('INTERSECTION_RELATED_I').sum()['INJURIES_FATAL']\n",
    "intersection_plot.drop('Not_Available', inplace = True)\n",
    "intersection_plot.plot(kind='pie');\n",
    "intersection_plot"
   ]
  },
  {
   "cell_type": "markdown",
   "id": "ec0a5a5f",
   "metadata": {},
   "source": [
    "# 8.a Influence of road surface condtions on number of crashes"
   ]
  },
  {
   "cell_type": "code",
   "execution_count": 26,
   "id": "32da45f1",
   "metadata": {},
   "outputs": [
    {
     "data": {
      "text/plain": [
       "ROADWAY_SURFACE_COND\n",
       "DRY                357579\n",
       "ICE                  3915\n",
       "OTHER                1157\n",
       "SAND, MUD, DIRT       215\n",
       "SNOW OR SLUSH       20235\n",
       "UNKNOWN             31860\n",
       "WET                 66662\n",
       "dtype: int64"
      ]
     },
     "execution_count": 26,
     "metadata": {},
     "output_type": "execute_result"
    },
    {
     "data": {
      "image/png": "[encoded data removed]",
      "text/plain": [
       "<Figure size 432x288 with 1 Axes>"
      ]
     },
     "metadata": {
      "needs_background": "light"
     },
     "output_type": "display_data"
    }
   ],
   "source": [
    "road_cond = df.groupby(\"ROADWAY_SURFACE_COND\").size()\n",
    "plt.ylabel(\"Number of Crashes\")\n",
    "plt.title(\"Number of crashes based on road surface conditions\")\n",
    "road_cond.plot.bar();\n",
    "road_cond"
   ]
  },
  {
   "cell_type": "markdown",
   "id": "e245ab39",
   "metadata": {},
   "source": [
    "Highest number of crashes took place on dry surface roadways. Least number of crashes took place on sand,mud and dirt roadways"
   ]
  },
  {
   "cell_type": "markdown",
   "id": "ee07e704",
   "metadata": {},
   "source": [
    "# 8.b Total injuries for each type of first collision in crash "
   ]
  },
  {
   "cell_type": "code",
   "execution_count": 27,
   "id": "94aa72ad",
   "metadata": {},
   "outputs": [
    {
     "data": {
      "text/plain": [
       "REAR END                        115240\n",
       "PARKED MOTOR VEHICLE            110694\n",
       "SIDESWIPE SAME DIRECTION         74239\n",
       "TURNING                          67225\n",
       "ANGLE                            50894\n",
       "FIXED OBJECT                     22128\n",
       "PEDESTRIAN                       11160\n",
       "SIDESWIPE OPPOSITE DIRECTION      7134\n",
       "PEDALCYCLIST                      6972\n",
       "OTHER OBJECT                      4585\n",
       "HEAD ON                           4108\n",
       "REAR TO FRONT                     2742\n",
       "REAR TO SIDE                      1675\n",
       "OTHER NONCOLLISION                1596\n",
       "REAR TO REAR                       598\n",
       "ANIMAL                             332\n",
       "OVERTURNED                         271\n",
       "TRAIN                               30\n",
       "Name: FIRST_CRASH_TYPE, dtype: int64"
      ]
     },
     "execution_count": 27,
     "metadata": {},
     "output_type": "execute_result"
    }
   ],
   "source": [
    "df['FIRST_CRASH_TYPE'].value_counts()"
   ]
  },
  {
   "cell_type": "code",
   "execution_count": 28,
   "id": "3e06be11",
   "metadata": {},
   "outputs": [
    {
     "data": {
      "text/plain": [
       "FIRST_CRASH_TYPE\n",
       "ANGLE                           16486.0\n",
       "ANIMAL                             24.0\n",
       "FIXED OBJECT                     4658.0\n",
       "HEAD ON                          2015.0\n",
       "OTHER NONCOLLISION                257.0\n",
       "OTHER OBJECT                      547.0\n",
       "OVERTURNED                        161.0\n",
       "PARKED MOTOR VEHICLE             4131.0\n",
       "PEDALCYCLIST                     4794.0\n",
       "PEDESTRIAN                      10243.0\n",
       "REAR END                        20312.0\n",
       "REAR TO FRONT                     168.0\n",
       "REAR TO REAR                       13.0\n",
       "REAR TO SIDE                      173.0\n",
       "SIDESWIPE OPPOSITE DIRECTION     1039.0\n",
       "SIDESWIPE SAME DIRECTION         4737.0\n",
       "TRAIN                              21.0\n",
       "TURNING                         14837.0\n",
       "Name: INJURIES_TOTAL, dtype: float64"
      ]
     },
     "execution_count": 28,
     "metadata": {},
     "output_type": "execute_result"
    },
    {
     "data": {
      "image/png": "[encoded data removed]",
      "text/plain": [
       "<Figure size 432x288 with 1 Axes>"
      ]
     },
     "metadata": {
      "needs_background": "light"
     },
     "output_type": "display_data"
    }
   ],
   "source": [
    "injury = df.groupby('FIRST_CRASH_TYPE').sum()['INJURIES_TOTAL']\n",
    "plt.ylabel(\"Number of total injuries\")\n",
    "plt.title(\"Number of total injuries for different types of first collision in crash\")\n",
    "injury.plot(kind='bar');\n",
    "injury"
   ]
  },
  {
   "cell_type": "markdown",
   "id": "3b7ae923",
   "metadata": {},
   "source": [
    "From the above observation it is evident that most number of total injuries have occured for rear end first collision in crash and the leaast injuries have occured for rear to rear first collisions"
   ]
  },
  {
   "cell_type": "code",
   "execution_count": null,
   "id": "2c4cb8ad",
   "metadata": {},
   "outputs": [],
   "source": []
  }
 ],
 "metadata": {
  "kernelspec": {
   "display_name": "Python 3",
   "language": "python",
   "name": "python3"
  },
  "language_info": {
   "codemirror_mode": {
    "name": "ipython",
    "version": 3
   },
   "file_extension": ".py",
   "mimetype": "text/x-python",
   "name": "python",
   "nbconvert_exporter": "python",
   "pygments_lexer": "ipython3",
   "version": "3.8.8"
  }
 },
 "nbformat": 4,
 "nbformat_minor": 5
}
