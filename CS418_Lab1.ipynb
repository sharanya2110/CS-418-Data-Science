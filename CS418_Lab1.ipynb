{
 "cells": [
  {
   "cell_type": "code",
   "execution_count": 1,
   "metadata": {},
   "outputs": [],
   "source": [
    "from IPython.core.interactiveshell import InteractiveShell\n",
    "InteractiveShell.ast_node_interactivity = \"all\""
   ]
  },
  {
   "cell_type": "markdown",
   "metadata": {},
   "source": [
    "# Lab1: Introduction to Jupyter Notebook and Python Review\n",
    "\n",
    "In this lab you will learn how to use Jupyter notebook environment and review some basic concepts in python programming language. Each section contains exercises that you need to complete. We will start with simple concepts and data structure and work our way up to some simple tasks we need in handling data."
   ]
  },
  {
   "cell_type": "markdown",
   "metadata": {},
   "source": [
    "## Jupyter Notebook\n",
    "\n",
    "This page is a Jupyter notebook. You can write programs and run them to see the results, as well as writing text cells just like this one.\n",
    "\n",
    "###  Text cells\n",
    "Each rectangle containing text or code is called a *cell*.\n",
    "You can edit any text cells by double-clicking on them. They are written in Markdown format. If you are not familiar with the syntax, you can check the following link [Markdown Syntax](http://daringfireball.net/projects/markdown/syntax)\n",
    "\n",
    "After you edit a text cell, click the \"run cell\" button at the top that looks like ▶| or hold down `shift` + `return` to confirm any changes. "
   ]
  },
  {
   "cell_type": "markdown",
   "metadata": {},
   "source": [
    "### Code cells\n",
    "Other cells contain code in the Python 3 language. Running a code cell will execute all of the code it contains.\n",
    "\n",
    "To run the code in a code cell, first click on that cell to activate it.  It'll be highlighted with a little green or blue rectangle.  Next, either press ▶| or hold down `shift` + `return`."
   ]
  },
  {
   "cell_type": "markdown",
   "metadata": {},
   "source": [
    "## Running this notebook\n",
    "To run a Jupyter notebook, first navigate to the directory containing the downloaded notebook. From a command line, activate the environment and run:\n",
    "\n",
    "(...) $ jupyter notebook\n",
    "\n",
    "You need to to have Python 3 and Jupyter installed on your system. If you don't run the following command:\n",
    "\n",
    "(...) $ conda install jupyter notebook\n"
   ]
  },
  {
   "cell_type": "markdown",
   "metadata": {},
   "source": [
    "## Submitting Lab assignments on Gradescope"
   ]
  },
  {
   "cell_type": "markdown",
   "metadata": {},
   "source": [
    "Edit the following cell so that it prints \"Hello World!\" when run:"
   ]
  },
  {
   "cell_type": "code",
   "execution_count": 2,
   "metadata": {},
   "outputs": [
    {
     "name": "stdout",
     "output_type": "stream",
     "text": [
      "Hello World!\n"
     ]
    }
   ],
   "source": [
    "print(\"Hello World!\")"
   ]
  },
  {
   "cell_type": "markdown",
   "metadata": {},
   "source": [
    "Now that everything is running, let's start with some writing a simple function: <br>\n",
    "**Exercise 1.1** Write a python function that returns the sum of squares in range  [1, 2, ..., n ]"
   ]
  },
  {
   "cell_type": "code",
   "execution_count": 3,
   "metadata": {},
   "outputs": [],
   "source": [
    "def sumofsquares(n) :\n",
    "    sum = 0\n",
    "    for i in range(1, n+1) :\n",
    "        sum += i*i\n",
    "      \n",
    "    return sum"
   ]
  },
  {
   "cell_type": "markdown",
   "metadata": {},
   "source": [
    "**Exercise 1.2** Write a lambda function that returns the sum of squares in range  [1, 2, ..., n ]"
   ]
  },
  {
   "cell_type": "code",
   "execution_count": 4,
   "metadata": {},
   "outputs": [],
   "source": [
    "from functools import reduce\n",
    "def sumofsquares_lambda(n):\n",
    "    return reduce(lambda a, b: a + b**2, range(1, n+1))"
   ]
  },
  {
   "cell_type": "markdown",
   "metadata": {},
   "source": [
    "### strings\n",
    "Strings are a data type in Python for dealing with text, they are iterable, immutable. <br>\n",
    "\n",
    "**Exercise 2.1** For a given string s, write a function that returns a new string that doubles\n",
    "each character of the original string. For instance, if the user enters _Python_, the output should be\n",
    "_PPyytthhoonn_."
   ]
  },
  {
   "cell_type": "code",
   "execution_count": 5,
   "metadata": {},
   "outputs": [
    {
     "name": "stdout",
     "output_type": "stream",
     "text": [
      "HHeelllloo\n"
     ]
    }
   ],
   "source": [
    "def double_letters (s):\n",
    "    op=''\n",
    "    for i in s:\n",
    "        op += i+i\n",
    "    return op\n",
    "    \n",
    "    \n",
    "s = 'Hello'\n",
    "print(double_letters(s))    "
   ]
  },
  {
   "cell_type": "markdown",
   "metadata": {},
   "source": [
    "Python has a number of powerful features for manipulating strings.<br>\n",
    "\n",
    "**Exercise 2.2** For the given string s, print the following:\n",
    "\n",
    "1. The total number of characters in the string\n",
    "2. The string repeated 5 times\n",
    "3. The first character of the string \n",
    "4. The first three characters of the string\n",
    "5. The last three characters of the string\n",
    "6. The string backwards\n",
    "7. The string with its first and last characters removed \n",
    "8. The string in all caps\n",
    "9. The string with every a replaced with an e\n",
    "10. Concatenate \"The\" to the string \n"
   ]
  },
  {
   "cell_type": "code",
   "execution_count": 6,
   "metadata": {},
   "outputs": [],
   "source": [
    "s = 'aardvark'"
   ]
  },
  {
   "cell_type": "code",
   "execution_count": 7,
   "metadata": {},
   "outputs": [
    {
     "name": "stdout",
     "output_type": "stream",
     "text": [
      "8\n",
      "aardvarkaardvarkaardvarkaardvarkaardvark\n",
      "a\n",
      "aar\n",
      "ark\n",
      "kravdraa\n",
      "ardvar\n",
      "AARDVARK\n",
      "The string with every a replaced with an e: eerdverk\n",
      "Theaardvark\n"
     ]
    }
   ],
   "source": [
    "print(len(s))\n",
    "print(s*5)\n",
    "print(s[0])\n",
    "print(s[:3])\n",
    "print(s[-3:])\n",
    "print(s[::-1])\n",
    "print(s[1:-1])\n",
    "print(s.upper())\n",
    "print(\"The string with every a replaced with an e:\",s.replace('a','e'))\n",
    "print(\"The\"+ s)"
   ]
  },
  {
   "cell_type": "markdown",
   "metadata": {},
   "source": [
    "### Lists\n",
    "The most fundamental data structure in Python is a list. A list is simply an ordered collection.\n",
    "\n",
    "**Exercise 3.1** For the list given below, do the following tasks:<br>\n",
    " 1. print the first three item \n",
    " 2. print the last item \n",
    " 3. print the last three items\n",
    " 4. print the items with odd index\n",
    " 5. print the list in reversed, you should give at least two methods\n"
   ]
  },
  {
   "cell_type": "code",
   "execution_count": 8,
   "metadata": {},
   "outputs": [
    {
     "name": "stdout",
     "output_type": "stream",
     "text": [
      "['sat', 'sun', 'mon']\n",
      "fri\n",
      "['wed', 'thu', 'fri']\n",
      "['sun', 'tue', 'thu']\n",
      "i) ['fri', 'thu', 'wed', 'tue', 'mon', 'sun', 'sat']\n",
      "ii) ['fri', 'thu', 'wed', 'tue', 'mon', 'sun', 'sat']\n"
     ]
    }
   ],
   "source": [
    "days = ['sat','sun','mon','tue','wed','thu','fri']\n",
    "print(days[:3])\n",
    "print(days[-1])\n",
    "print(days[-3:])\n",
    "print(days[1::2])\n",
    "print(\"i)\",days[::-1])\n",
    "\n",
    "def ListReverse(days):\n",
    "    days.reverse()\n",
    "    return days\n",
    "\n",
    "print(\"ii)\",ListReverse(days))"
   ]
  },
  {
   "cell_type": "markdown",
   "metadata": {},
   "source": [
    "List comprehensions are a powerful way to create lists: "
   ]
  },
  {
   "cell_type": "code",
   "execution_count": 9,
   "metadata": {},
   "outputs": [],
   "source": [
    "l = [i for i in range(5)]"
   ]
  },
  {
   "cell_type": "markdown",
   "metadata": {},
   "source": [
    "The example above will create a list _L_ = [0,1,2,3,4] <br>\n",
    "For the next exercise, use list comprehension:<br>\n",
    "\n",
    "**Exercise 3.2** \n",
    "\n",
    " 1. Generates a list _L_ of 15 random numbers between 1 and 100\n",
    " 2. Replace each element in _L_ with its square.\n",
    " 3. Count how many items in _L_ are greater than 60.\n",
    " 4. Count how many items in _L_ are less than 30.\n",
    "\n",
    "\n",
    "\n"
   ]
  },
  {
   "cell_type": "code",
   "execution_count": 10,
   "metadata": {},
   "outputs": [
    {
     "name": "stdout",
     "output_type": "stream",
     "text": [
      "[3, 50, 62, 90, 46, 20, 6, 60, 84, 70, 40, 97, 14, 65, 6]\n"
     ]
    }
   ],
   "source": [
    "import random\n",
    "L=[random.randrange(1, 101, 1) for _ in range(15)]\n",
    "\n",
    "print (L)"
   ]
  },
  {
   "cell_type": "code",
   "execution_count": 11,
   "metadata": {},
   "outputs": [
    {
     "name": "stdout",
     "output_type": "stream",
     "text": [
      "[9, 2500, 3844, 8100, 2116, 400, 36, 3600, 7056, 4900, 1600, 9409, 196, 4225, 36]\n"
     ]
    }
   ],
   "source": [
    "print(list(map(lambda x: x**2, L)))"
   ]
  },
  {
   "cell_type": "code",
   "execution_count": 12,
   "metadata": {},
   "outputs": [
    {
     "name": "stdout",
     "output_type": "stream",
     "text": [
      "[3, 50, 62, 90, 46, 20, 6, 60, 84, 70, 40, 97, 14, 65, 6]\n",
      "Items greater than 60 = 6\n",
      "Items lesser than 30 = 5\n"
     ]
    }
   ],
   "source": [
    "print (L)\n",
    "count = len([i for i in L if i > 60])\n",
    "print (\"Items greater than 60 = \" + str(count))\n",
    "\n",
    "count2 = len([i for i in L if i < 30])\n",
    "print (\"Items lesser than 30 = \" + str(count2))"
   ]
  },
  {
   "cell_type": "markdown",
   "metadata": {},
   "source": [
    "### Dictionaries\n",
    "A fundamental data structure which associates values with keys and allows you to quickly retrieve the value corresponding to a given key. <br>\n",
    "\n",
    "**Exercise 4.1** Raccoon University is holding an event to recognize distinguished alumni. For alumni receiving recognition, we have prepared a dictionary that contains their names and class of graduation:"
   ]
  },
  {
   "cell_type": "code",
   "execution_count": 13,
   "metadata": {},
   "outputs": [],
   "source": [
    "rac_alum = {\n",
    "    'Albert': '1996',\n",
    "    'Ada' : '1998',\n",
    "    'Barry': '1996',\n",
    "    'Carlos': '1999',\n",
    "    'Chris': '1996',\n",
    "    'Claire': '1998',\n",
    "    'Jill': '1999',\n",
    "    'Rebecca': '2002', \n",
    "    'Luis' : '2004', \n",
    "    'Leon' : '1998', \n",
    "}\n"
   ]
  },
  {
   "cell_type": "markdown",
   "metadata": {},
   "source": [
    "As we are planning for the event, we recieve some corrections on our guests and we need to update the dictionary: A new guest has RSVP'd, an old guest has changed plans and will not attend, and a correction to one of our entries is necessary. <br>\n",
    "<br>\n",
    "For the given dictionary: \n",
    " 1. Add a new guest named Ashley who graduated in 2004\n",
    " 2. Remove Barry from the dictionary\n",
    " 3. Change Leon's class of graduation to 2004"
   ]
  },
  {
   "cell_type": "code",
   "execution_count": 14,
   "metadata": {},
   "outputs": [
    {
     "name": "stdout",
     "output_type": "stream",
     "text": [
      "{'Albert': '1996', 'Ada': '1998', 'Barry': '1996', 'Carlos': '1999', 'Chris': '1996', 'Claire': '1998', 'Jill': '1999', 'Rebecca': '2002', 'Luis': '2004', 'Leon': '1998', 'Ashley': '2004'}\n"
     ]
    }
   ],
   "source": [
    "rac_alum['Ashley']= '2004'\n",
    "print(rac_alum)"
   ]
  },
  {
   "cell_type": "code",
   "execution_count": 15,
   "metadata": {},
   "outputs": [
    {
     "name": "stdout",
     "output_type": "stream",
     "text": [
      "{'Albert': '1996', 'Ada': '1998', 'Carlos': '1999', 'Chris': '1996', 'Claire': '1998', 'Jill': '1999', 'Rebecca': '2002', 'Luis': '2004', 'Leon': '1998', 'Ashley': '2004'}\n"
     ]
    }
   ],
   "source": [
    "del rac_alum['Barry']\n",
    "print(rac_alum)"
   ]
  },
  {
   "cell_type": "code",
   "execution_count": 16,
   "metadata": {},
   "outputs": [
    {
     "name": "stdout",
     "output_type": "stream",
     "text": [
      "{'Albert': '1996', 'Ada': '1998', 'Carlos': '1999', 'Chris': '1996', 'Claire': '1998', 'Jill': '1999', 'Rebecca': '2002', 'Luis': '2004', 'Leon': '2004', 'Ashley': '2004'}\n"
     ]
    }
   ],
   "source": [
    "rac_alum['Leon']= '2004'\n",
    "print(rac_alum)"
   ]
  },
  {
   "cell_type": "markdown",
   "metadata": {},
   "source": [
    "We want to set the tables based on class of graduation and assign guests to a table corresponding to their class of graduation. For this task, we need to reverse the rac_alum dictionary and create a new one that maps class of graduation to a list of alumni who graduated that year.<br>\n",
    "<br>\n",
    "**Exercise 4.2** Write a function that reverses the keys and values of a dictionary. <br>\n",
    "_Example:_"
   ]
  },
  {
   "cell_type": "code",
   "execution_count": 18,
   "metadata": {},
   "outputs": [
    {
     "name": "stdout",
     "output_type": "stream",
     "text": [
      "{'1996': ['Albert', 'Chris'], '1998': ['Ada', 'Claire'], '1999': ['Carlos', 'Jill'], '2002': ['Rebecca'], '2004': ['Luis', 'Leon', 'Ashley']}\n"
     ]
    }
   ],
   "source": [
    "def dic_inv(d):\n",
    "    rac_alum_inv = dict()\n",
    "    for key, value in d.items():\n",
    "        rac_alum_inv.setdefault(value, list()).append(key)\n",
    "    return rac_alum_inv\n",
    "print(dic_inv(rac_alum))"
   ]
  },
  {
   "cell_type": "markdown",
   "metadata": {},
   "source": [
    "**Exercise 4.3** In the game Scrabble, each letter has a point value associated with it. We use the\n",
    "following dictionary for the letter values:\n"
   ]
  },
  {
   "cell_type": "code",
   "execution_count": 19,
   "metadata": {},
   "outputs": [],
   "source": [
    "points = {'A':1, 'B':3, 'C':3, 'D':2, 'E':1, 'F':4, 'G':2,\n",
    "          'H':4, 'I':1, 'J':8, 'K':5, 'L':1, 'M':3, 'N':1,\n",
    "          'O':1, 'P':3, 'Q':10, 'R':1, 'S':1, 'T':1, 'U':1,\n",
    "          'V':4, 'W':4, 'X':8, 'Y':4, 'Z':10}"
   ]
  },
  {
   "cell_type": "markdown",
   "metadata": {},
   "source": [
    "Write a function that calculates the score of a given word. Use it to find the score of each word in the following list:"
   ]
  },
  {
   "cell_type": "code",
   "execution_count": 20,
   "metadata": {},
   "outputs": [],
   "source": [
    "words =['airplane' , 'zebra' , 'statistics','algorithm']"
   ]
  },
  {
   "cell_type": "code",
   "execution_count": 21,
   "metadata": {},
   "outputs": [
    {
     "name": "stdout",
     "output_type": "stream",
     "text": [
      "airplane: 10\n",
      "zebra: 16\n",
      "statistics: 12\n",
      "algorithm: 15\n"
     ]
    }
   ],
   "source": [
    "def word_score(w):\n",
    "    score = 0\n",
    "    for letter in w.upper():\n",
    "        score += points[letter]\n",
    "    return score\n",
    "\n",
    "for i in words:\n",
    "    print(i+\":\",word_score(i))"
   ]
  },
  {
   "cell_type": "markdown",
   "metadata": {},
   "source": [
    "We can use dictionaries to count how frequently certain words appear in a text.<br>\n",
    "**Exercise 4.4** In this exercise we will find the frequency of words in _The yellow wallpaper_ by _Charlotte Perkins Gilman_. This book and many others are available for free on [Project Gutenberg](http://www.gutenberg.org/). The following line of code will read the entire contents of a file containing _The yellow wallpaper_ text and stores it in a string called _data_:\n"
   ]
  },
  {
   "cell_type": "code",
   "execution_count": 22,
   "metadata": {},
   "outputs": [],
   "source": [
    "dat = open('Yellow_Wallpaper_PROJECT_GUTENBERG.txt',encoding=\"utf8\").read()"
   ]
  },
  {
   "cell_type": "markdown",
   "metadata": {},
   "source": [
    "In order to analyze this text do the following:<br>\n",
    "\n",
    "1. Turn the whole string to lowercase\n",
    "2. Remove all the punctuations from the text (you can use \"from string import punctuation\")\n",
    "3. Split the string into a list of individual words\n",
    "4. Create a dictionary and count the frequency of words \n",
    "5. Print the first 20 and the last 20 words in your dictionary. The words must be in alphabetical order"
   ]
  },
  {
   "cell_type": "code",
   "execution_count": 23,
   "metadata": {},
   "outputs": [],
   "source": [
    "dat = dat.lower()"
   ]
  },
  {
   "cell_type": "code",
   "execution_count": 24,
   "metadata": {},
   "outputs": [],
   "source": [
    "import string\n",
    "out = dat.translate(str.maketrans('', '', string.punctuation))"
   ]
  },
  {
   "cell_type": "code",
   "execution_count": 25,
   "metadata": {},
   "outputs": [],
   "source": [
    "sep = out.split()"
   ]
  },
  {
   "cell_type": "code",
   "execution_count": 26,
   "metadata": {},
   "outputs": [
    {
     "name": "stdout",
     "output_type": "stream",
     "text": [
      "{'the': 233, 'yellow': 9, 'wallpaper': 12, 'by': 25, 'charlotte': 1, 'perkins': 1, 'gilman': 1, 'it': 166, 'is': 132, 'very': 21, 'seldom': 1, 'that': 108, 'mere': 1, 'ordinary': 1, 'people': 6, 'like': 21, 'john': 42, 'and': 282, 'myself': 9, 'secure': 1, 'ancestral': 1, 'halls': 1, 'for': 52, 'summer': 1, 'a': 141, 'colonial': 1, 'mansion': 1, 'hereditary': 1, 'estate': 2, 'i': 293, 'would': 27, 'say': 6, 'haunted': 1, 'house': 7, 'reach': 5, 'height': 1, 'of': 107, 'romantic': 1, 'felicity—but': 1, 'be': 31, 'asking': 1, 'too': 12, 'much': 16, 'fate': 1, 'still': 5, 'will': 13, 'proudly': 1, 'declare': 1, 'there': 39, 'something': 9, 'queer': 3, 'about': 25, 'else': 5, 'why': 9, 'should': 7, 'let': 8, 'so': 66, 'cheaply': 1, 'have': 34, 'stood': 1, 'long': 12, 'untenanted': 1, 'laughs': 2, 'at': 35, 'me': 68, 'course': 12, 'but': 69, 'one': 32, 'expects': 1, 'in': 91, 'marriage': 1, 'practical': 1, 'extreme': 1, 'he': 55, 'has': 8, 'no': 14, 'patience': 1, 'with': 28, 'faith': 1, 'an': 9, 'intense': 1, 'horror': 2, 'superstition': 1, 'scoffs': 1, 'openly': 1, 'any': 10, 'talk': 6, 'things': 12, 'not': 42, 'to': 140, 'felt': 4, 'seen': 2, 'put': 4, 'down': 27, 'figures': 1, 'physician': 4, 'perhaps—i': 1, 'living': 1, 'soul': 1, 'this': 29, 'dead': 1, 'paper': 21, 'great': 11, 'relief': 3, 'my': 39, 'mind—perhaps': 1, 'reason': 2, 'do': 17, 'get': 24, 'well': 14, 'faster': 4, 'you': 37, 'see': 24, 'does': 10, 'believe': 7, 'am': 23, 'sick': 4, 'what': 14, 'can': 26, 'if': 28, 'high': 4, 'standing': 4, 'one’s': 1, 'own': 2, 'husband': 1, 'assures': 1, 'friends': 1, 'relatives': 1, 'really': 14, 'nothing': 7, 'matter': 1, 'temporary': 1, 'nervous': 8, 'depression—a': 1, 'slight': 1, 'hysterical': 1, 'tendency—what': 1, 'brother': 2, 'also': 2, 'says': 11, 'same': 7, 'thing': 14, 'take': 12, 'phosphates': 1, 'or': 14, 'phosphites—whichever': 1, 'tonics': 2, 'journeys': 1, 'air': 5, 'exercise': 3, 'absolutely': 1, 'forbidden': 1, '“work”': 1, 'until': 4, 'again': 5, 'personally': 2, 'disagree': 1, 'their': 2, 'ideas': 2, 'congenial': 1, 'work': 3, 'excitement': 1, 'change': 1, 'good': 15, 'did': 13, 'write': 5, 'while': 3, 'spite': 5, 'them': 8, 'exhaust': 2, 'deal—having': 1, 'sly': 2, 'meet': 1, 'heavy': 3, 'opposition': 2, 'sometimes': 9, 'fancy': 6, 'condition': 3, 'had': 23, 'less': 1, 'more': 12, 'society': 1, 'stimulus—but': 1, 'worst': 2, 'think': 15, 'confess': 1, 'always': 12, 'makes': 8, 'feel': 11, 'bad': 6, 'alone': 8, 'most': 8, 'beautiful': 4, 'place': 5, 'quite': 8, 'back': 5, 'from': 8, 'road': 5, 'three': 5, 'miles': 1, 'village': 1, 'english': 1, 'places': 3, 'read': 2, 'are': 28, 'hedges': 1, 'walls': 3, 'gates': 1, 'lock': 2, 'lots': 2, 'separate': 1, 'little': 20, 'houses': 1, 'gardeners': 1, 'delicious': 1, 'garden': 4, 'never': 10, 'saw': 4, 'such': 14, 'garden—large': 1, 'shady': 2, 'full': 3, 'boxbordered': 1, 'paths': 2, 'lined': 1, 'grapecovered': 1, 'arbors': 4, 'seats': 1, 'under': 9, 'were': 5, 'greenhouses': 1, 'they': 13, 'all': 39, 'broken': 2, 'now': 21, 'was': 37, 'some': 5, 'legal': 1, 'trouble': 1, 'heirs': 1, 'coheirs': 1, 'anyhow': 1, 'been': 6, 'empty': 2, 'years': 1, 'spoils': 1, 'ghostliness': 1, 'afraid': 2, 'don’t': 28, 'care—there': 1, 'strange': 2, 'house—i': 1, 'even': 10, 'said': 29, 'moonlight': 5, 'evening': 3, 'draught': 1, 'shut': 1, 'window': 7, 'unreasonably': 1, 'angry': 4, 'i’m': 7, 'sure': 4, 'used': 11, 'sensitive': 1, 'due': 1, 'shall': 6, 'neglect': 1, 'proper': 1, 'selfcontrol': 2, 'pains': 1, 'control': 1, 'myself—before': 1, 'him': 18, 'least—and': 1, 'tired': 7, 'our': 3, 'room': 22, 'bit': 6, 'wanted': 3, 'downstairs': 3, 'opened': 1, 'on': 30, 'piazza': 1, 'roses': 2, 'over': 14, 'pretty': 3, 'oldfashioned': 2, 'chintz': 1, 'hangings': 1, 'hear': 1, 'only': 13, 'two': 5, 'beds': 2, 'near': 2, 'took': 3, 'another': 6, 'careful': 3, 'loving': 2, 'hardly': 1, 'lets': 2, 'stir': 1, 'without': 2, 'special': 1, 'direction': 2, 'schedule': 1, 'prescription': 1, 'each': 3, 'hour': 4, 'day': 7, 'takes': 2, 'care': 3, 'basely': 1, 'ungrateful': 1, 'value': 1, 'we': 18, 'came': 5, 'here': 17, 'solely': 1, 'account': 1, 'perfect': 2, 'rest': 4, 'could': 12, '“your': 1, 'depends': 1, 'your': 6, 'strength': 3, 'dear”': 2, '“and': 3, 'food': 1, 'somewhat': 1, 'appetite': 3, 'absorb': 1, 'time”': 1, 'nursery': 5, 'top': 2, 'big': 4, 'airy': 2, 'whole': 2, 'floor': 4, 'nearly': 1, 'windows': 9, 'look': 7, 'ways': 1, 'sunshine': 1, 'galore': 1, 'first': 7, 'then': 15, 'playground': 1, 'gymnasium': 1, 'judge': 1, 'barred': 2, 'children': 6, 'rings': 1, 'paint': 1, 'as': 49, 'boys’': 1, 'school': 1, 'stripped': 1, 'off—the': 1, 'paper—in': 1, 'patches': 1, 'around': 9, 'head': 5, 'bed': 5, 'far': 3, 'other': 6, 'side': 1, 'low': 3, 'worse': 4, 'life': 3, 'those': 9, 'sprawling': 2, 'flamboyant': 1, 'patterns': 1, 'committing': 1, 'every': 5, 'artistic': 1, 'sin': 1, 'dull': 2, 'enough': 11, 'confuse': 1, 'eye': 1, 'following': 2, 'pronounced': 1, 'constantly': 1, 'irritate': 2, 'provoke': 1, 'study': 1, 'when': 25, 'follow': 4, 'lame': 2, 'uncertain': 1, 'curves': 2, 'distance': 1, 'suddenly': 3, 'commit': 1, 'suicide—plunge': 1, 'off': 16, 'outrageous': 1, 'angles': 1, 'destroy': 1, 'themselves': 1, 'unheardof': 1, 'contradictions': 1, 'color': 4, 'repellant': 1, 'almost': 3, 'revolting': 1, 'smouldering': 1, 'unclean': 1, 'strangely': 1, 'faded': 2, 'slowturning': 1, 'sunlight': 1, 'yet': 2, 'lurid': 1, 'orange': 1, 'sickly': 1, 'sulphur': 1, 'tint': 1, 'others': 1, 'wonder': 7, 'hated': 2, 'hate': 2, 'live': 2, 'comes': 6, 'must': 10, 'away—he': 1, 'hates': 2, 'word': 2, 'weeks': 3, 'haven’t': 1, 'writing': 4, 'before': 9, 'since': 1, 'sitting': 1, 'up': 14, 'atrocious': 1, 'hinder': 1, 'please': 2, 'save': 1, 'lack': 2, 'away': 8, 'nights': 1, 'his': 9, 'cases': 2, 'serious': 3, 'glad': 1, 'case': 3, 'these': 3, 'troubles': 1, 'dreadfully': 2, 'depressing': 1, 'know': 15, 'how': 9, 'suffer': 2, 'knows': 3, 'satisfies': 1, 'nervousness': 1, 'weigh': 2, 'duty': 1, 'way': 7, 'meant': 2, 'help': 3, 'real': 2, 'comfort': 3, 'comparative': 1, 'burden': 1, 'already': 1, 'nobody': 5, 'effort': 3, 'able—to': 1, 'dress': 1, 'entertain': 1, 'order': 2, 'fortunate': 2, 'mary': 1, 'baby': 4, 'dear': 9, 'cannot': 4, 'suppose': 4, 'repaper': 1, 'afterwards': 1, 'letting': 1, 'better': 8, 'patient': 1, 'than': 10, 'give': 3, 'fancies': 3, 'after': 5, 'changed': 1, 'bedstead': 3, 'gate': 1, 'stairs': 3, '“you': 1, 'doing': 3, 'good”': 1, 'renovate': 1, 'just': 19, 'months’': 1, 'rental”': 1, '“then': 1, 'us': 1, 'go': 14, 'downstairs”': 1, '“there': 1, 'rooms': 1, 'there”': 1, 'arms': 2, 'called': 1, 'blessed': 2, 'goose': 1, 'cellar': 1, 'wished': 3, 'whitewashed': 1, 'into': 6, 'bargain': 1, 'right': 2, 'comfortable': 1, 'need': 1, 'wish': 5, 'silly': 3, 'make': 4, 'uncomfortable': 1, 'whim': 1, 'getting': 8, 'fond': 2, 'horrid': 2, 'out': 30, 'mysterious': 1, 'deepshaded': 1, 'riotous': 1, 'flowers': 1, 'bushes': 1, 'gnarly': 1, 'trees': 2, 'lovely': 4, 'view': 1, 'bay': 1, 'private': 1, 'wharf': 1, 'belonging': 1, 'shaded': 3, 'lane': 3, 'runs': 2, 'walking': 2, 'numerous': 2, 'cautioned': 1, 'least': 2, 'imaginative': 1, 'power': 1, 'habit': 3, 'storymaking': 1, 'weakness': 2, 'mine': 2, 'lead': 1, 'manner': 2, 'excited': 1, 'ought': 1, 'use': 3, 'sense': 1, 'check': 1, 'tendency': 1, 'try': 4, 'relieve': 1, 'press': 1, 'find': 8, 'discouraging': 1, 'advice': 1, 'companionship': 1, 'ask': 2, 'cousin': 2, 'henry': 2, 'julia': 2, 'visit': 2, 'soon': 2, 'fireworks': 1, 'pillowcase': 1, 'stimulating': 1, 'looks': 3, 'knew': 1, 'vicious': 2, 'influence': 1, 'recurrent': 1, 'spot': 1, 'where': 6, 'pattern': 21, 'lolls': 1, 'neck': 1, 'bulbous': 2, 'eyes': 6, 'stare': 1, 'upsidedown': 2, 'positively': 1, 'impertinence': 1, 'everlastingness': 1, 'sideways': 1, 'crawl': 2, 'absurd': 2, 'unblinking': 1, 'everywhere': 1, 'breadths': 2, 'didn’t': 4, 'match': 1, 'line': 1, 'higher': 1, 'expression': 2, 'inanimate': 1, 'lie': 7, 'awake': 2, 'child': 3, 'entertainment': 1, 'terror': 1, 'blank': 1, 'plain': 2, 'furniture': 4, 'toystore': 1, 'remember': 1, 'kindly': 1, 'wink': 1, 'knobs': 1, 'old': 2, 'bureau': 1, 'chair': 2, 'seemed': 3, 'strong': 2, 'friend': 2, 'looked': 6, 'fierce': 1, 'hop': 1, 'safe': 1, 'inharmonious': 1, 'however': 1, 'bring': 1, 'playroom': 1, 'ravages': 1, 'made': 2, 'torn': 1, 'spots': 3, 'sticketh': 1, 'closer': 1, 'brother—they': 1, 'perseverance': 1, 'hatred': 1, 'scratched': 1, 'gouged': 1, 'splintered': 1, 'plaster': 1, 'itself': 1, 'dug': 1, 'which': 2, 'found': 6, 'through': 7, 'wars': 1, 'mind': 5, 'bit—only': 1, 'john’s': 2, 'sister': 2, 'girl': 1, 'she': 32, 'her': 22, 'enthusiastic': 1, 'housekeeper': 1, 'hopes': 1, 'profession': 1, 'verily': 1, 'thinks': 1, 'commands': 1, 'winding': 1, 'country': 3, 'elms': 1, 'velvet': 1, 'meadows': 1, 'kind': 4, 'subpattern': 1, 'different': 1, 'shade': 1, 'particularly': 1, 'irritating': 1, 'certain': 1, 'lights': 1, 'clearly': 1, 'isn’t': 1, 'sun': 6, 'provoking': 1, 'formless': 1, 'sort': 2, 'figure': 2, 'seems': 4, 'sulk': 1, 'behind': 9, 'conspicuous': 1, 'front': 6, 'design': 2, 'there’s': 3, 'fourth': 1, 'july': 1, 'gone': 4, 'thought': 4, 'might': 3, 'company': 1, 'mother': 1, 'nellie': 1, 'week': 3, 'jennie': 12, 'sees': 1, 'everything': 3, 'pick': 1, 'send': 1, 'weir': 1, 'mitchell': 1, 'fall': 1, 'want': 11, 'who': 2, 'hands': 1, 'once': 4, 'besides': 3, 'undertaking': 1, 'worth': 1, 'turn': 4, 'hand': 3, 'anything': 3, 'fretful': 1, 'querulous': 1, 'cry': 2, 'time': 10, 'anybody': 3, 'deal': 4, 'kept': 4, 'town': 3, 'often': 3, 'walk': 1, 'sit': 1, 'porch': 1, 'perhaps': 2, 'because': 4, 'dwells': 1, 'immovable': 1, 'bed—it': 1, 'nailed': 2, 'believe—and': 1, 'gymnastics': 1, 'assure': 1, 'start': 1, 'we’ll': 1, 'bottom': 1, 'corner': 1, 'touched': 2, 'determine': 1, 'thousandth': 1, 'pointless': 1, 'conclusion': 1, 'principle': 1, 'arranged': 1, 'laws': 1, 'radiation': 2, 'alternation': 1, 'repetition': 1, 'symmetry': 1, 'ever': 7, 'heard': 2, 'repeated': 1, 'otherwise': 1, 'breadth': 2, 'stands': 1, 'bloated': 1, 'flourishes—a': 1, '“debased': 1, 'romanesque”': 1, 'delirium': 1, 'tremens—go': 1, 'waddling': 2, 'isolated': 1, 'columns': 1, 'fatuity': 1, 'connect': 1, 'diagonally': 1, 'outlines': 1, 'run': 2, 'slanting': 1, 'waves': 1, 'optic': 1, 'lot': 2, 'wallowing': 1, 'seaweeds': 1, 'chase': 1, 'goes': 2, 'horizontally': 1, 'trying': 4, 'distinguish': 1, 'its': 1, 'going': 2, 'horizontal': 1, 'frieze': 1, 'adds': 1, 'wonderfully': 1, 'confusion': 1, 'end': 1, 'intact': 1, 'crosslights': 1, 'fade': 1, 'shines': 3, 'directly': 1, 'upon': 2, 'all—the': 1, 'interminable': 2, 'grotesques': 1, 'seem': 1, 'form': 1, 'common': 1, 'centre': 1, 'rush': 1, 'headlong': 1, 'plunges': 1, 'equal': 1, 'distraction': 1, 'nap': 1, 'guess': 1, 'able': 4, 'way—it': 1, 'greater': 1, 'half': 3, 'awfully': 1, 'lazy': 1, 'musn’t': 1, 'lose': 2, 'codliver': 1, 'oil': 1, 'ale': 1, 'wine': 1, 'rare': 1, 'meat': 1, 'loves': 2, 'dearly': 1, 'tried': 5, 'earnest': 1, 'reasonable': 1, 'tell': 5, 'wasn’t': 2, 'nor': 1, 'stand': 3, 'got': 7, 'crying': 2, 'finished': 1, 'straight': 4, 'gathered': 1, 'carried': 1, 'upstairs': 1, 'laid': 1, 'sat': 2, 'till': 3, 'darling': 1, 'sake': 4, 'keep': 3, 'happy': 1, 'occupy': 1, 'escape': 1, 'wouldn’t': 4, 'impressionable': 1, 'worlds': 1, 'lucky': 1, 'easier': 2, 'mention': 1, 'more—i': 1, 'wise—but': 1, 'watch': 5, 'outside': 5, 'dim': 2, 'shapes': 1, 'clearer': 1, 'shape': 1, 'woman': 8, 'stooping': 1, 'creeping': 9, 'wonder—i': 1, 'begin': 1, 'think—i': 1, 'hard': 3, 'wise': 1, 'last': 3, 'night': 12, 'moon': 2, 'creeps': 2, 'slowly': 2, 'asleep': 2, 'waken': 1, 'watched': 3, 'undulating': 1, 'creepy': 1, 'faint': 1, 'shake': 2, 'softly': 1, 'went': 2, 'move': 3, '“what': 2, 'girl”': 1, '“don’t': 1, 'that—you’ll': 1, 'cold”': 1, 'though': 3, 'told': 3, 'gaining': 2, '“why': 2, 'darling”': 3, '“our': 1, 'lease': 1, 'can’t': 4, 'leave': 4, '“the': 3, 'repairs': 1, 'done': 2, 'home': 2, 'possibly': 1, 'danger': 1, 'whether': 3, 'doctor': 1, 'flesh': 1, 'you”': 1, '“i': 3, 'more”': 1, '“nor': 1, 'may': 2, 'morning': 2, 'away”': 2, '“bless': 1, 'heart”': 1, 'hug': 1, '“she': 1, 'pleases': 1, 'let’s': 1, 'improve': 2, 'shining': 1, 'hours': 3, 'sleep': 10, 'morning”': 1, 'won’t': 3, 'asked': 3, 'gloomily': 1, 'nice': 1, 'trip': 1, 'few': 2, 'days': 2, 'ready': 1, 'better”': 1, '“better': 1, 'body': 1, 'perhaps”—i': 1, 'began': 3, 'stopped': 2, 'short': 2, 'stern': 1, 'reproachful': 1, '“my': 1, 'beg': 1, 'child’s': 1, 'instant': 1, 'idea': 1, 'enter': 1, 'dangerous': 1, 'fascinating': 1, 'temperament': 1, 'yours': 1, 'false': 1, 'foolish': 1, 'trust': 2, 'so”': 1, 'score': 1, 'wasn’t—i': 1, 'lay': 1, 'decide': 1, 'together': 1, 'separately': 1, 'daylight': 5, 'sequence': 1, 'defiance': 1, 'law': 1, 'constant': 1, 'irritant': 1, 'normal': 1, 'hideous': 1, 'unreliable': 1, 'infuriating': 1, 'torturing': 1, 'mastered': 1, 'turns': 2, 'somersault': 1, 'slaps': 1, 'face': 1, 'knocks': 1, 'tramples': 1, 'dream': 1, 'florid': 1, 'arabesque': 1, 'reminding': 1, 'fungus': 3, 'imagine': 1, 'toadstool': 1, 'joints': 1, 'string': 1, 'toadstools': 1, 'budding': 1, 'sprouting': 1, 'endless': 1, 'convolutions—why': 1, 'marked': 1, 'peculiarity': 1, 'notice': 2, 'changes': 4, 'light': 2, 'shoots': 2, 'east': 1, 'window—i': 1, 'ray—it': 1, 'quickly': 1, 'moonlight—the': 1, 'moon—i': 1, 'twilight': 1, 'candlelight': 1, 'lamplight': 1, 'becomes': 1, 'bars': 3, 'mean': 2, 'realize': 1, 'showed': 1, 'behind—that': 1, 'subpattern—but': 1, 'subdued': 1, 'quiet': 7, 'keeps': 3, 'puzzling': 1, 'indeed': 2, 'started': 1, 'making': 1, 'meal': 1, 'convinced': 1, 'cultivates': 1, 'deceit': 1, 'awake—oh': 1, 'fact': 1, 'inexplicable': 1, 'strikes': 1, 'occasionally': 1, 'scientific': 1, 'hypothesis': 1, 'looking': 2, 'come': 3, 'innocent': 2, 'excuses': 1, 'i’ve': 3, 'caught': 4, 'several': 2, 'times': 2, 'voice': 2, 'restrained': 1, 'possible': 1, 'turned': 2, 'stealing': 1, 'angry—asked': 1, 'frighten': 1, 'stained': 1, 'smooches': 1, 'clothes': 1, 'sound': 1, 'studying': 1, 'determined': 1, 'exciting': 1, 'expect': 1, 'forward': 1, 'eat': 1, 'pleased': 1, 'laughed': 2, 'flourishing': 1, 'laugh': 2, 'intention': 1, 'telling': 1, 'wallpaper—he': 1, 'fun': 1, 'feeling': 1, 'interesting': 1, 'developments': 1, 'daytime': 4, 'tiresome': 1, 'perplexing': 1, 'new': 2, 'shades': 1, 'count': 1, 'conscientiously': 1, 'strangest': 1, 'saw—not': 1, 'ones': 1, 'buttercups': 1, 'foul': 1, 'paper—the': 1, 'smell': 5, 'noticed': 1, 'moment': 1, 'fog': 1, 'rain': 1, 'open': 3, 'hovering': 1, 'diningroom': 1, 'skulking': 1, 'parlor': 1, 'hiding': 1, 'hall': 1, 'lying': 1, 'wait': 1, 'gets': 2, 'hair': 1, 'ride': 1, 'surprise': 1, 'it—there': 1, 'peculiar': 1, 'odor': 2, 'spent': 1, 'analyze': 1, 'smelled': 1, 'bad—at': 1, 'gentle': 1, 'subtlest': 1, 'enduring': 1, 'met': 1, 'damp': 1, 'weather': 1, 'awful': 2, 'wake': 2, 'hanging': 1, 'disturb': 1, 'seriously': 1, 'burning': 1, 'house—to': 1, 'funny': 2, 'mark': 1, 'wall': 4, 'mopboard': 1, 'streak': 1, 'round': 4, 'piece': 2, 'except': 1, 'smooch': 2, 'rubbed': 1, 'round—round': 1, 'round—it': 1, 'dizzy': 1, 'discovered': 1, 'watching': 1, 'finally': 1, 'move—and': 1, 'shakes': 3, 'many': 3, 'women': 3, 'crawls': 1, 'fast': 4, 'crawling': 1, 'bright': 1, 'hold': 1, 'climb': 2, 'pattern—it': 1, 'strangles': 2, 'heads': 3, 'white': 1, 'covered': 1, 'taken': 1, 'i’ll': 1, 'why—privately—i’ve': 1, 'creep': 8, 'dark': 1, 'grape': 1, 'along': 1, 'carriage': 1, 'hides': 1, 'blackberry': 1, 'vines': 1, 'blame': 1, 'humiliating': 1, 'door': 7, 'suspect': 1, 'cloud': 1, 'shadow': 1, 'wind': 1, 'gotten': 1, 'shan’t': 1, 'beginning': 1, 'professional': 1, 'questions': 2, 'report': 1, 'slept': 1, 'sorts': 1, 'pretended': 1, 'couldn’t': 1, 'acts': 1, 'sleeping': 1, 'months': 1, 'interests': 1, 'secretly': 1, 'affected': 1, 'hurrah': 1, 'stay': 1, 'me—the': 1, 'undoubtedly': 1, 'clever': 1, 'poor': 1, 'ran': 1, 'pulled': 3, 'shook': 2, 'peeled': 2, 'yards': 1, 'strip': 1, 'declared': 1, 'finish': 1, 'today': 1, 'tomorrow': 2, 'moving': 1, 'amazement': 1, 'merrily': 1, 'pure': 1, 'herself': 2, 'betrayed': 1, 'person': 1, 'touches': 1, 'me—not': 1, 'alive': 1, 'room—it': 1, 'patent': 1, 'clean': 1, 'believed': 1, 'dinner—i': 1, 'call': 2, 'woke': 1, 'servants': 1, 'left': 1, 'canvas': 1, 'mattress': 1, 'tonight': 1, 'boat': 1, 'enjoy': 1, 'bare': 1, 'tear': 1, 'fairly': 1, 'gnawed': 1, 'locked': 1, 'thrown': 1, 'key': 3, 'path': 2, 'astonish': 1, 'rope': 1, 'tries': 1, 'tie': 1, 'forgot': 1, 'lift': 1, 'push': 1, 'corner—but': 1, 'hurt': 1, 'teeth': 1, 'sticks': 1, 'horribly': 1, 'enjoys': 1, 'strangled': 1, 'growths': 1, 'shriek': 1, 'derision': 1, 'desperate': 1, 'jump': 1, 'admirable': 1, 'step': 1, 'improper': 1, 'misconstrued': 1, 'even—there': 1, 'securely': 1, 'fastened': 1, 'wellhidden': 1, 'rope—you': 1, 'pleasant': 1, 'asks': 1, 'ground': 1, 'green': 1, 'instead': 1, 'smoothly': 1, 'shoulder': 2, 'fits': 1, 'young': 1, 'man': 2, 'pound': 1, 'he’s': 1, 'axe': 1, 'shame': 1, 'break': 1, '“john': 1, 'gentlest': 1, 'steps': 1, 'plantain': 2, 'leaf”': 2, 'silenced': 1, 'moments': 1, 'said—very': 1, 'quietly': 1, '“open': 1, 'can’t”': 1, 'gently': 1, 'matter”': 1, 'cried': 1, '“for': 1, 'god’s': 1, 'doing”': 1, '“i’ve': 1, 'last”': 1, '“in': 1, 'jane': 1, 'back”': 1, 'fainted': 1, 'across': 1}\n"
     ]
    }
   ],
   "source": [
    "wordFreq = {}\n",
    "for word in sep:\n",
    "    if word not in wordFreq:\n",
    "        wordFreq[word] = 0 \n",
    "    wordFreq[word] += 1\n",
    "\n",
    "print(wordFreq)"
   ]
  },
  {
   "cell_type": "code",
   "execution_count": 28,
   "metadata": {},
   "outputs": [
    {
     "name": "stdout",
     "output_type": "stream",
     "text": [
      "['a', 'able', 'able—to', 'about', 'absolutely', 'absorb', 'absurd', 'account', 'across', 'acts', 'adds', 'admirable', 'advice', 'affected', 'afraid', 'after', 'afterwards', 'again', 'air', 'airy', '“debased', '“don’t', '“for', '“i', '“in', '“i’ve', '“john', '“my', '“nor', '“open', '“our', '“she', '“the', '“then', '“there', '“what', '“why', '“work”', '“you', '“your']\n"
     ]
    }
   ],
   "source": [
    "key = sorted(wordFreq.keys())\n",
    "keys = key[:20]+key[-20:]\n",
    "print(keys)"
   ]
  },
  {
   "cell_type": "code",
   "execution_count": null,
   "metadata": {},
   "outputs": [],
   "source": []
  }
 ],
 "metadata": {
  "kernelspec": {
   "display_name": "Python 3 (ipykernel)",
   "language": "python",
   "name": "python3"
  },
  "language_info": {
   "codemirror_mode": {
    "name": "ipython",
    "version": 3
   },
   "file_extension": ".py",
   "mimetype": "text/x-python",
   "name": "python",
   "nbconvert_exporter": "python",
   "pygments_lexer": "ipython3",
   "version": "3.9.7"
  }
 },
 "nbformat": 4,
 "nbformat_minor": 2
}
