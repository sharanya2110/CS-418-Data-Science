{
 "cells": [
  {
   "cell_type": "code",
   "execution_count": 14,
   "metadata": {},
   "outputs": [],
   "source": [
    "from IPython.core.interactiveshell import InteractiveShell\n",
    "InteractiveShell.ast_node_interactivity = \"all\""
   ]
  },
  {
   "cell_type": "markdown",
   "metadata": {},
   "source": [
    "# Lab 2 : Web scraping and  API requests\n",
    "\n",
    "In this lab exercise you will practice scraping data from a website, as well as doing some priliminary analysis on them.\n",
    "\n",
    "__Deadline: Sunday, Oct 10 11:59__\n",
    "\n",
    "\n",
    "\n",
    "## Part 1: Scraping Data From Wikipedia\n",
    "\n",
    "We have completed a similar task during lecture. You have to scrap a specific page of Wikipedia and answer some questions regarding the data you have collected. \n",
    "You have to get the data about different countries and their respective populations from the following page:\n",
    "[https://en.wikipedia.org/wiki/List_of_countries_by_past_and_future_population](https://en.wikipedia.org/wiki/List_of_countries_by_past_and_future_population)\n",
    "\n",
    "This page contains multiple tables for past and future population of countries. For the first part of this lab do the following:\n",
    "\n",
    "1. Fetch the data from wikipedia with \"requests\" library\n",
    "2. Parse html data with BeautifulSoup library\n",
    "3. Use BeautifulSoup to extract specific tables\n",
    "4. Combine the tables and convert the data into a dictionary \n",
    "5. Make a pandas dataframe from the dictionary \n",
    "6. Answer some questions and do some basic visualization!\n",
    "\n"
   ]
  },
  {
   "cell_type": "markdown",
   "metadata": {},
   "source": [
    "### 1.1 Get the data from wikipedia (5 pts)\n",
    "\n",
    "Use \"requests\" library. "
   ]
  },
  {
   "cell_type": "code",
   "execution_count": null,
   "metadata": {},
   "outputs": [],
   "source": [
    "# Your code here \n",
    "\n"
   ]
  },
  {
   "cell_type": "markdown",
   "metadata": {},
   "source": [
    "### 1.2 Parse html data with BeautifulSoup\n",
    "\n",
    "Parse the data using BeautifulSoup. Remember that BeautifulSoup has many useful attributes such as prettify(), find(attribute), and find_all(attribute). Check the documentation for more info: [https://www.crummy.com/software/BeautifulSoup/bs4/doc/](https://www.crummy.com/software/BeautifulSoup/bs4/doc/)\n",
    "\n",
    "\n",
    "\n",
    "#### 1.2.a Find the first title object and extract and print the string stored in it (5 pts)"
   ]
  },
  {
   "cell_type": "code",
   "execution_count": null,
   "metadata": {},
   "outputs": [],
   "source": [
    "# Your code here  \n",
    "\n",
    "\n"
   ]
  },
  {
   "cell_type": "markdown",
   "metadata": {},
   "source": [
    "#### 1.2.b Find all the paragrpahs, store them in a list, and print the first 10 (5 pts) "
   ]
  },
  {
   "cell_type": "code",
   "execution_count": null,
   "metadata": {},
   "outputs": [],
   "source": [
    "# Your code here  \n",
    "\n"
   ]
  },
  {
   "cell_type": "markdown",
   "metadata": {},
   "source": [
    "### 1.3 Extract the tables (10 pts)\n",
    "\n",
    "We only care about the tables that contain historical population data. Extract all of them."
   ]
  },
  {
   "cell_type": "code",
   "execution_count": null,
   "metadata": {},
   "outputs": [],
   "source": [
    "# Your code here  \n",
    "# You need to  find all objects that include the css class “wikitable” within the soup object.\n",
    "\n"
   ]
  },
  {
   "cell_type": "code",
   "execution_count": null,
   "metadata": {},
   "outputs": [],
   "source": [
    "# check the tables you extracted\n",
    "\n",
    "from IPython.core.display import display, HTML\n",
    "display(HTML(tables[0].prettify()))"
   ]
  },
  {
   "cell_type": "markdown",
   "metadata": {},
   "source": [
    "### 1.4 Convert the tables into a dictionary  (35 pts)\n",
    "\n",
    "Looking at the tables, we only care about the population number throughout the history. You want to associate each country with a series of population values to make a proper time series table you can use to analyze the population in a given coutnry.\n",
    "\n",
    "First, you need to clean the tables cells from any footnote, links, commas or any garbage values. \n",
    "Once your data is cleaned, make a dictionary and combine each country with its corresponding year/population values across all three tables. An entry in your final dictionary should look like this: \n",
    "\n",
    "\n",
    "'Albania': {'1950': 1228,\n",
    "            '1955': 1393,\n",
    "            '1960': 1624,\n",
    "            '1965': 1884,\n",
    "            '1970': 2157,\n",
    "            '1975': 2402,\n",
    "            '1980': 2672,\n",
    "            '1985': 2957,\n",
    "            '1990': 3245,\n",
    "            '1995': 3159,\n",
    "            '2000': 3159,\n",
    "            '2005': 3025,\n",
    "            '2010': 2987,\n",
    "            '2015': 3030,\n",
    "            '2020': 3075,\n",
    "            '2025': 3105,\n",
    "            '2030': 3103,\n",
    "            '2035': 3063,\n",
    "            '2040': 2994,\n",
    "            '2045': 2913,\n",
    "            '2050': 2825},"
   ]
  },
  {
   "cell_type": "markdown",
   "metadata": {},
   "source": [
    "One way to do it is:\n",
    "\n",
    "1. First extract the header \n",
    "2. From your header only store values that are numeric (you can use isnumeric() function, recall that we only care about year values and we don't want to store columns represented by %\n",
    "3. Once you have all the relevant column names (column that correspond to a year value), you can go over every row of the table \n",
    "    * Create a dictionary key with the country name \n",
    "    * Collect and add values corresponding to one of your column names to the dictionary"
   ]
  },
  {
   "cell_type": "code",
   "execution_count": null,
   "metadata": {},
   "outputs": [],
   "source": [
    "# Your code here  \n"
   ]
  },
  {
   "cell_type": "markdown",
   "metadata": {},
   "source": [
    "###  1.5 Create a dataframe from your dictionary (10 pts)\n",
    "\n",
    "Now that all tables are stored in a dictionary, we can convert the dictionary into a pandas dataframe.\n",
    "\n",
    "1. Remove the \"World\" row \n",
    "2. Replace 'NaN' values with 0\n",
    "3. Display the first 8 rows\n"
   ]
  },
  {
   "cell_type": "code",
   "execution_count": null,
   "metadata": {},
   "outputs": [],
   "source": [
    "# Your code here "
   ]
  },
  {
   "cell_type": "code",
   "execution_count": null,
   "metadata": {},
   "outputs": [],
   "source": [
    "# Your code here"
   ]
  },
  {
   "cell_type": "markdown",
   "metadata": {},
   "source": [
    "##### Part 2. Exploring the data \n",
    "\n",
    "Now let's look at the data at hand. \n",
    "\n",
    "### 2.1 Plotting population  (15 pts)\n",
    "\n",
    "Pick 6 countries of your choice and plot their population growth."
   ]
  },
  {
   "cell_type": "code",
   "execution_count": null,
   "metadata": {},
   "outputs": [],
   "source": [
    "# Your code here"
   ]
  },
  {
   "cell_type": "markdown",
   "metadata": {},
   "source": [
    "### 2.2 Find 10 most populous countries ( 15 pts)\n",
    "\n",
    "Find 10 most popoulous coutntries in 1960, 1980, 2000, 2020, and 2040. \n",
    "Plot and compare their population. "
   ]
  },
  {
   "cell_type": "code",
   "execution_count": null,
   "metadata": {},
   "outputs": [],
   "source": [
    "# Your code here"
   ]
  }
 ],
 "metadata": {
  "kernelspec": {
   "display_name": "Python 3",
   "language": "python",
   "name": "python3"
  },
  "language_info": {
   "codemirror_mode": {
    "name": "ipython",
    "version": 3
   },
   "file_extension": ".py",
   "mimetype": "text/x-python",
   "name": "python",
   "nbconvert_exporter": "python",
   "pygments_lexer": "ipython3",
   "version": "3.7.2"
  }
 },
 "nbformat": 4,
 "nbformat_minor": 2
}
