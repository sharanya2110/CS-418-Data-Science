{
 "cells": [
  {
   "cell_type": "markdown",
   "metadata": {},
   "source": [
    "The following exercises are designed to help you get familiar with the basics of numpy, pandas, and matplotlib packages. These exercises are extension of material we discuss during lecture. You can access the lecture .ipynb files to get familiar with the basics.\n",
    "\n",
    "\n",
    "In order to complete this assignment, first you need to import proper packages and read data files into proper data structures.\n",
    "This is part of your \"class activity\". The __deadline__ for submitting this assignment is __Friday, Oct 15__.\n",
    "Submit your solution on __Gradescope__."
   ]
  },
  {
   "cell_type": "markdown",
   "metadata": {},
   "source": [
    "# Exercises\n",
    "\n",
    "## Numpy\n",
    "\n",
    "Check out the Numpy-Basics file and read the documentation at http://www.numpy.org\n",
    "Now it's your turn to do some practice with NumPy: \n",
    "\n",
    "#### 1. Create a 1-dimensional NumPy array of 100 random integers (1 pt)\n",
    "\n",
    "1.  Find and print all the summary statistics (mean, std, median, max, min, ...)\n",
    "2.  Compare the time for finding the max using python built-in functions and NumPy corresponding function\n",
    "3. Create a new array that is the base-2 logarithm of your array"
   ]
  },
  {
   "cell_type": "code",
   "execution_count": 1,
   "metadata": {},
   "outputs": [],
   "source": [
    "# Your code here"
   ]
  },
  {
   "cell_type": "markdown",
   "metadata": {},
   "source": [
    "#### 2. Create a 2-dimensional NumPy array of (3,4) random integers (mat1) (2 pts)\n",
    "\n",
    "1. Create another 2-D array that is the square root of your original array (mat2)\n",
    "2. Find how many values are greater than 20 using np.count_nonzero(  ) function ( you can also use np.sum( )\n",
    "3. Perform a dot product between two 2-D arrays (mat3)\n",
    "4. Find all the values that are less than 10 and greater than 30 in mat3"
   ]
  },
  {
   "cell_type": "code",
   "execution_count": 2,
   "metadata": {},
   "outputs": [],
   "source": [
    "# Your code here"
   ]
  },
  {
   "cell_type": "markdown",
   "metadata": {},
   "source": [
    "## Pandas\n",
    "\n",
    "Check out the pandas-basics file on Blackbaord. \n",
    "pandas documentation is very detailed and useful and contains a [short tutorial](https://pandas.pydata.org/pandas-docs/stable/user_guide/10min.html). You can also check this [Cheatsheet](https://github.com/pandas-dev/pandas/blob/master/doc/cheatsheet/Pandas_Cheat_Sheet.pdf)\n",
    "\n",
    "\n",
    "\n",
    "Now it's your turn to do some exercises and get familiar with Python. First, you are going to answer some questions about the movies dataset we already explored:\n",
    "\n",
    "####  3. Pandas basics with movies_by_year data (2 pts)\n",
    "\n",
    "Download the \"movies_by_year.csv\" file from Blackboard _(Weekly content : Week 6)_\n",
    "\n",
    "1. Get a quick statistical profile of Total_Gross column\n",
    "2. Get the summary statistics (mean,max,min,std) of Total_Gross for movies that were highest grossing movie of the year during 1995 - 2005\n",
    "3. Do the same thing for movies during 2005-2015 period\n",
    "4. What are some insights you gain from this comparison?\n",
    "\n",
    "\n"
   ]
  },
  {
   "cell_type": "code",
   "execution_count": 3,
   "metadata": {},
   "outputs": [],
   "source": [
    "# Your code goes here "
   ]
  },
  {
   "cell_type": "code",
   "execution_count": 4,
   "metadata": {},
   "outputs": [],
   "source": [
    "# Your code goes here "
   ]
  },
  {
   "cell_type": "markdown",
   "metadata": {},
   "source": [
    "####  4. Pandas basics with risk dataset (2 pts)\n",
    "\n",
    "Download the \"Risk.csv\" file from Blackboard _(Weekly content : Week 8)_\n",
    "\n",
    "1. Find the minimum and maximum values of income\n",
    "2. Find the mean income based on gender\n",
    "3. Draw the histogram of income distribution based on gender\n"
   ]
  },
  {
   "cell_type": "code",
   "execution_count": 5,
   "metadata": {},
   "outputs": [],
   "source": [
    "# Your code goes here "
   ]
  },
  {
   "cell_type": "code",
   "execution_count": 6,
   "metadata": {},
   "outputs": [],
   "source": [
    "# Your code goes here "
   ]
  },
  {
   "cell_type": "markdown",
   "metadata": {},
   "source": [
    "####  5. EDA with famous baby name dataset (3 pts)\n",
    "\n",
    "For downloading the data set go to [https://www.ssa.gov/oact/babynames/state/namesbystate.zip]\n",
    "or use [this box link](https://app.box.com/s/i52qu3mgmpwvikiggjmwwydgycw4d4bt) to access all the text files.\n",
    "\n",
    "1. How many men and women were counted?\n",
    "2. Count unique boy/girl names.\n",
    "3. Find top 10 popular names between 2000 - 2015 and plot their trend \n",
    "4. Create a new column titled namelength ( you can use str.len()). Then plot the averge length of names\n"
   ]
  },
  {
   "cell_type": "code",
   "execution_count": 7,
   "metadata": {},
   "outputs": [],
   "source": [
    "# Your code goes here "
   ]
  },
  {
   "cell_type": "code",
   "execution_count": 8,
   "metadata": {},
   "outputs": [],
   "source": [
    "# Your code goes here "
   ]
  },
  {
   "cell_type": "code",
   "execution_count": null,
   "metadata": {},
   "outputs": [],
   "source": []
  }
 ],
 "metadata": {
  "kernelspec": {
   "display_name": "Python 3",
   "language": "python",
   "name": "python3"
  },
  "language_info": {
   "codemirror_mode": {
    "name": "ipython",
    "version": 3
   },
   "file_extension": ".py",
   "mimetype": "text/x-python",
   "name": "python",
   "nbconvert_exporter": "python",
   "pygments_lexer": "ipython3",
   "version": "3.8.3"
  }
 },
 "nbformat": 4,
 "nbformat_minor": 2
}
