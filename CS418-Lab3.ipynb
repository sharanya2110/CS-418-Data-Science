{
 "cells": [
  {
   "cell_type": "markdown",
   "metadata": {},
   "source": [
    "# Lab 3: Scikit Learn and Regression"
   ]
  },
  {
   "cell_type": "markdown",
   "metadata": {},
   "source": [
    "Deadline Wednesday 11/10/21  11:59 pm "
   ]
  },
  {
   "cell_type": "markdown",
   "metadata": {},
   "source": [
    "**scikit-learn** is a popular machine learning package that contains a variety of models and tools. In this lab and lab 4 we will work with different models provided by **scikit-learn** package and build several models.\n",
    "\n",
    "All objects within scikitt-learn share a uniform common basic API consisting of 3 interfaces: an _estimator_ interface for building and fitting models, a _predictor_ interface for making predictions, and a _transformer_ interface for converting data.\n",
    "\n",
    ">The _estimator_  interface defines object mechanism and a fit method for learning a model from training data. All supervised and unsupervised learning algorithms are offered as objects implementing this interface. Other machine learning tasks such as _feature extraction_, _feature selection_, and _dimensionality reduction_ are provided as _estimators_. \n",
    "\n",
    "For more information, check the scikit-learn API paper: [https://arxiv.org/pdf/1309.0238v1.pdf]\n",
    "\n",
    "The general form of using models in scikit-learn:\n"
   ]
  },
  {
   "cell_type": "markdown",
   "metadata": {},
   "source": [
    "```\n",
    "clf = someModel( )\n",
    "clf.fit(x_train , y_tain)\n",
    "```"
   ]
  },
  {
   "cell_type": "markdown",
   "metadata": {},
   "source": [
    "For Example: \n",
    "\n",
    "```\n",
    "clf = LinearSVC( )\n",
    "clf.fit(x_train , y_tain)\n",
    "```"
   ]
  },
  {
   "cell_type": "markdown",
   "metadata": {},
   "source": [
    ">The _predictor_ adds a predict method that takes an array x_test and produces predictions for x_test, based on the learned parameters of the _estimator_. In supervised learning, this method typically return predicted labels or values computed by the model. Some unsupervised learning estimators may also implement the predict interface, such as __k-means__, where the predicted values are the cluster labels.\n",
    "\n",
    "```\n",
    "clf.predict(x_test)\n",
    "```"
   ]
  },
  {
   "cell_type": "markdown",
   "metadata": {},
   "source": [
    ">_transform_ method is used to modify or filter data before feeding it to a learning algorithm. It takes some new data as input and outputs a transformed version of that data. Preprocessing, feature selection, feature extraction and dimensionality reduction algorithms are all provided as _transformers_ within the library. \n",
    "\n",
    "This is usually done with __fit_transform__ method. For example: "
   ]
  },
  {
   "cell_type": "markdown",
   "metadata": {},
   "source": [
    "```\n",
    "PCA = RandomizedPCA (n_components = 2) \n",
    "x_train = PCA.fit_transform(x_train)\n",
    "x_test = PCA.fit_transform(x_test)\n",
    "\n",
    "```"
   ]
  },
  {
   "cell_type": "markdown",
   "metadata": {},
   "source": [
    "In the example above, we first __fit__ the training set to find the PC components, then they are transformed. "
   ]
  },
  {
   "cell_type": "markdown",
   "metadata": {},
   "source": [
    "We can summarize the _estimator_ as follows:\n",
    "\n",
    "* In _all estimators_\n",
    "    - `model.fit()` : fit training data. In supervised learning, fit will take two parameters: the data x and labels y. In unsupervised learning, fit will take a single parameter: the data x\n",
    "\n",
    "* In _supervised estimators_\n",
    "    - `model.predict()` : predict the label of new test data for the given model. Predict takes one parameter: the new test data and returns the learned label for each item in the test data \n",
    "    - `model.score()` : Returns the score method for classification or regression methods.\n",
    "\n",
    "* In _unsupervised estimators_\n",
    "\n",
    "    - `model.transform()`: Tranform new data into new basis. Transform takes one parameter: new data and returns a new representation of that data based on the model\n",
    "  \n",
    "    "
   ]
  },
  {
   "cell_type": "markdown",
   "metadata": {},
   "source": []
  },
  {
   "cell_type": "markdown",
   "metadata": {},
   "source": [
    "\n",
    "### Linear Regression"
   ]
  },
  {
   "cell_type": "markdown",
   "metadata": {},
   "source": [
    "Let's start with a simple linear regression. First we will see an example of a simple linear regression. A simple straight line that fits the data. The formula representing the model is $$y = \\beta_1 x +  \\beta_0$$"
   ]
  },
  {
   "cell_type": "code",
   "execution_count": 1,
   "metadata": {},
   "outputs": [],
   "source": [
    "%matplotlib inline\n",
    "import matplotlib.pyplot as plt\n",
    "import seaborn as sns; sns.set()\n",
    "import numpy as np"
   ]
  },
  {
   "cell_type": "markdown",
   "metadata": {},
   "source": [
    "Let's start by using the following simple data for showing how linear regression works in scikit-learn. Then it will be your turn to build a regression model on a dataset"
   ]
  },
  {
   "cell_type": "code",
   "execution_count": 2,
   "metadata": {},
   "outputs": [
    {
     "data": {
      "text/plain": [
       "<matplotlib.collections.PathCollection at 0x140ed5489d0>"
      ]
     },
     "execution_count": 2,
     "metadata": {},
     "output_type": "execute_result"
    },
    {
     "data": {
      "image/png": "[encoded data removed]",
      "text/plain": [
       "<Figure size 432x288 with 1 Axes>"
      ]
     },
     "metadata": {},
     "output_type": "display_data"
    }
   ],
   "source": [
    "rng = np.random.RandomState(50)\n",
    "\n",
    "x = 10 * rng.rand(80)\n",
    "y = 2 * x - 1 + rng.randn(80)\n",
    "\n",
    "plt.scatter(x,y)"
   ]
  },
  {
   "cell_type": "markdown",
   "metadata": {},
   "source": [
    "After processing your data, the first step is to choose a model. For the dataset above, we are going to pick \"Linear Regression\" model. Simply import your model:"
   ]
  },
  {
   "cell_type": "code",
   "execution_count": 3,
   "metadata": {},
   "outputs": [],
   "source": [
    "from sklearn.linear_model import LinearRegression"
   ]
  },
  {
   "cell_type": "markdown",
   "metadata": {},
   "source": [
    "Next, pick the model hyperparameters"
   ]
  },
  {
   "cell_type": "code",
   "execution_count": 4,
   "metadata": {},
   "outputs": [
    {
     "data": {
      "image/png": "[encoded data removed]",
      "text/plain": [
       "<Figure size 432x288 with 1 Axes>"
      ]
     },
     "metadata": {},
     "output_type": "display_data"
    }
   ],
   "source": [
    "\n",
    "model = LinearRegression(fit_intercept=True)\n",
    "\n",
    "model.fit(x[:, np.newaxis], y)\n",
    "\n",
    "xfit = np.linspace(0, 10, 1000)\n",
    "yfit = model.predict(xfit[:, np.newaxis])\n",
    "\n",
    "plt.scatter(x, y)\n",
    "plt.plot(xfit, yfit);"
   ]
  },
  {
   "cell_type": "markdown",
   "metadata": {},
   "source": [
    "We can check the model settings: "
   ]
  },
  {
   "cell_type": "code",
   "execution_count": 5,
   "metadata": {},
   "outputs": [
    {
     "name": "stdout",
     "output_type": "stream",
     "text": [
      "1.9445358872143084\n",
      "-0.8492545699739544\n"
     ]
    }
   ],
   "source": [
    "print(model.coef_[0])\n",
    "print(model.intercept_)"
   ]
  },
  {
   "cell_type": "markdown",
   "metadata": {},
   "source": [
    "### Linear regression on scikit-learn datasets\n",
    "\n",
    "You can use datasets provided by scikit-learn as well. In the example below, we will apply linear regression to the **diabetes** dataset.\n",
    "\n",
    "In the diabetes datasets, ten baseline variables; age, sex, body mass index, average blood pressure, and six blood serum measurements were obtained for each of n = 442 diabetes patients, as well as the response of interest, a quantitative measure of disease progression one year after baseline."
   ]
  },
  {
   "cell_type": "code",
   "execution_count": 6,
   "metadata": {},
   "outputs": [
    {
     "name": "stdout",
     "output_type": "stream",
     "text": [
      "Coefficients: \n",
      " [985.03296508]\n",
      "Mean squared error: 4457.27\n",
      "R-squared: 0.12\n"
     ]
    },
    {
     "data": {
      "image/png": "[encoded data removed]",
      "text/plain": [
       "<Figure size 432x288 with 1 Axes>"
      ]
     },
     "metadata": {},
     "output_type": "display_data"
    }
   ],
   "source": [
    "# Importing diabetes dataset\n",
    "from sklearn.datasets import load_diabetes\n",
    "\n",
    "from sklearn.model_selection import train_test_split\n",
    "from sklearn.metrics import mean_squared_error, r2_score\n",
    "\n",
    "\n",
    "# Load the diabetes dataset\n",
    "diabetes = load_diabetes()\n",
    "\n",
    "# Use only one feature -- the following code creates a 1-dimensional \n",
    "# array containing just the second feature\n",
    "diabetes_X = diabetes.data[:, np.newaxis]\n",
    "diabetes_X_data = diabetes_X[:,:,2]\n",
    "\n",
    "# Split the data into training/testing sets\n",
    "diabetes_X_train,diabetes_X_test , diabetes_y_train, diabetes_y_test = train_test_split(\n",
    "                                     diabetes_X_data, diabetes.target, test_size = 0.15, random_state=1 )\n",
    "\n",
    "\n",
    "# Create linear regression object\n",
    "m1 = LinearRegression()\n",
    "\n",
    "\n",
    "# Train the model with training data \n",
    "m1.fit(diabetes_X_train, diabetes_y_train)\n",
    "\n",
    "# Make predictions on test data \n",
    "diabetes_y_pred = m1.predict(diabetes_X_test)\n",
    "\n",
    "#print the coefficient \n",
    "print('Coefficients: \\n', m1.coef_)\n",
    "\n",
    "#print the mean squared error\n",
    "print('Mean squared error: %.2f'% mean_squared_error(diabetes_y_test, diabetes_y_pred))\n",
    "\n",
    "\n",
    "# print the r-squared\n",
    "print('R-squared: %.2f' % r2_score(diabetes_y_test, diabetes_y_pred))\n",
    "\n",
    "\n",
    "# Plot \n",
    "plt.scatter(diabetes_X_test, diabetes_y_test,  color='red')\n",
    "plt.plot(diabetes_X_test, diabetes_y_pred, color='blue', linewidth=2)\n",
    "\n",
    "plt.xticks(())\n",
    "plt.yticks(())\n",
    "\n",
    "plt.show()\n"
   ]
  },
  {
   "cell_type": "markdown",
   "metadata": {},
   "source": [
    "As you can see, the prediction is not very good. Maybe we can try something different!"
   ]
  },
  {
   "cell_type": "markdown",
   "metadata": {},
   "source": [
    "#### Exercise 3.1 ( 15 pts)\n",
    "\n",
    "Run the linear regression on diabetes data with **all the features** in the dataset. \n",
    "Calculate the mean squared error and compare the two models. Did using all available features improve the performance ?"
   ]
  },
  {
   "cell_type": "code",
   "execution_count": 7,
   "metadata": {},
   "outputs": [
    {
     "name": "stdout",
     "output_type": "stream",
     "text": [
      "Coefficients: \n",
      " [  -4.97447938 -242.99586736  563.75613397  297.84164538 -753.95450034\n",
      "  441.75646693  104.21720596  207.7256605   722.6862531    47.62624248]\n",
      "Mean squared error: 2953.89\n",
      "R-squared: 0.42\n"
     ]
    }
   ],
   "source": [
    "#Your code goes here\n",
    "diabetes_X = diabetes.data\n",
    "\n",
    "\n",
    "diabetes_x_train,diabetes_x_test , diabetes_y1_train, diabetes_y1_test = train_test_split(\n",
    "                                     diabetes_X, diabetes.target, test_size = 0.15,random_state = 1 )\n",
    "\n",
    "m2 = LinearRegression()\n",
    "\n",
    "\n",
    "# Train the model with training data \n",
    "m2.fit(diabetes_x_train, diabetes_y1_train)\n",
    "\n",
    "# Make predictions on test data \n",
    "diabetes_y1_pred = m2.predict(diabetes_x_test)\n",
    "\n",
    "#print the coefficient \n",
    "print('Coefficients: \\n', m2.coef_)\n",
    "\n",
    "#print the mean squared error\n",
    "print('Mean squared error: %.2f'% mean_squared_error(diabetes_y1_test, diabetes_y1_pred))\n",
    "\n",
    "\n",
    "# print the r-squared\n",
    "print('R-squared: %.2f' % r2_score(diabetes_y1_test, diabetes_y1_pred))\n"
   ]
  },
  {
   "cell_type": "markdown",
   "metadata": {},
   "source": [
    "Using all available features decreased the mean squared error and increased the R- squared value which is a sign of improved performance when compared to the previous model where only one feature was considered"
   ]
  },
  {
   "cell_type": "markdown",
   "metadata": {},
   "source": [
    "Feature selection allows your estimator to perform a better job by decreasing the model complexity and overfitting.\n",
    "scikit-learn provides several feature selection methods such as `SelectKBest` and `RFE`. Here is an example of using `RFE` or [Recursive feature elimination](https://scikit-learn.org/stable/modules/generated/sklearn.feature_selection.RFE.html#sklearn.feature_selection.RFE) on diabetes dataset:"
   ]
  },
  {
   "cell_type": "code",
   "execution_count": 8,
   "metadata": {},
   "outputs": [
    {
     "name": "stdout",
     "output_type": "stream",
     "text": [
      "[9 5 1 4 2 3 7 6 1 8]\n"
     ]
    }
   ],
   "source": [
    "from sklearn.feature_selection import RFE\n",
    "\n",
    "# Note that this piece of code works with training data and model from Exercise 3.1\n",
    "# Either choose the same name for your variables or change the variable names below\n",
    "\n",
    "rfe = RFE(estimator = m2 , n_features_to_select = 2 , step = 1)\n",
    "rfe.fit(diabetes_x_train, diabetes_y1_train)\n",
    "\n",
    "print(rfe.ranking_)"
   ]
  },
  {
   "cell_type": "markdown",
   "metadata": {},
   "source": [
    "#### Exercise 3.2 (20 pts)\n",
    "\n",
    "Calculate and print the mean squared error using two features. Which model performs better? (the more complex one with all features, or the simpler model using fewer features)\n",
    "(Note that `RFE` has a predict function you can use)\n",
    "\n"
   ]
  },
  {
   "cell_type": "code",
   "execution_count": 9,
   "metadata": {},
   "outputs": [
    {
     "name": "stdout",
     "output_type": "stream",
     "text": [
      "Mean squared error: 3472.27\n"
     ]
    }
   ],
   "source": [
    "# Your code goes here \n",
    "diabetes_y2_pred = rfe.predict(diabetes_x_test)\n",
    "print('Mean squared error: %.2f'% mean_squared_error(diabetes_y1_test, diabetes_y2_pred))\n"
   ]
  },
  {
   "cell_type": "markdown",
   "metadata": {},
   "source": [
    "The model with all features performs better because it results in a lower mean squared error when compared to the model with fewer features."
   ]
  },
  {
   "cell_type": "markdown",
   "metadata": {},
   "source": [
    "### Linear regression on the Boston house price dataset\n",
    "\n",
    "Now it's your turn to perform a linear regression on the Boston housing dataset."
   ]
  },
  {
   "cell_type": "markdown",
   "metadata": {},
   "source": [
    "#### Exercise 3.3 ( 20 pts)\n",
    "\n",
    "Train a set of linear regression models to predict the house prices for boston house dataset. You should use all the available features and train multiple linear regression models for:\n",
    "\n",
    "* a) 30% training, 70% testing \n",
    "* b) 50% training, 50% testing\n",
    "* c) 70% training, 30% testing\n",
    "* d) 80% training, 20% testing\n",
    "\n",
    "Plot the mean squared error for all models. "
   ]
  },
  {
   "cell_type": "code",
   "execution_count": 10,
   "metadata": {},
   "outputs": [
    {
     "name": "stdout",
     "output_type": "stream",
     "text": [
      "Mean squared error of model with 30 training, 70 testing (model a): 23.79\n",
      "Mean squared error of model with 50 training, 50 testing (model b): 22.84\n",
      "Mean squared error of model with 70 training, 30 testing (model c): 19.83\n",
      "Mean squared error of model with 80 training, 20 testing (model d): 23.38\n"
     ]
    },
    {
     "data": {
      "image/png": "[encoded data removed]",
      "text/plain": [
       "<Figure size 432x288 with 1 Axes>"
      ]
     },
     "metadata": {},
     "output_type": "display_data"
    }
   ],
   "source": [
    "from sklearn.datasets import load_boston\n",
    "boston = load_boston()\n",
    "\n",
    "#Your code goes here\n",
    "\n",
    "boston_x = boston.data[:]\n",
    "boston_y = boston.target\n",
    "\n",
    "\n",
    "bxt1 , bxtest1, byt1, bytest1 = train_test_split(boston_x, boston_y, test_size = 0.70, random_state = 1 )\n",
    "bxt2 , bxtest2, byt2, bytest2 = train_test_split(boston_x, boston_y, test_size = 0.50, random_state = 1 )\n",
    "bxt3 , bxtest3, byt3, bytest3 = train_test_split(boston_x, boston_y, test_size = 0.30, random_state = 1 )\n",
    "bxt4 , bxtest4, byt4, bytest4 = train_test_split(boston_x, boston_y, test_size = 0.20, random_state = 1 )\n",
    "\n",
    "l1 = LinearRegression()\n",
    "l1.fit(bxt1, byt1)\n",
    "bypred1 = l1.predict(bxtest1)\n",
    "meansq1 = mean_squared_error(bytest1, bypred1)\n",
    "print('Mean squared error of model with 30 training, 70 testing (model a): %.2f'%meansq1 )\n",
    "\n",
    "l2 = LinearRegression()\n",
    "l2.fit(bxt2, byt2)\n",
    "bypred2 = l2.predict(bxtest2)\n",
    "meansq2 = mean_squared_error(bytest2, bypred2)\n",
    "print('Mean squared error of model with 50 training, 50 testing (model b): %.2f'%meansq2 )\n",
    "\n",
    "l3 = LinearRegression()\n",
    "l3.fit(bxt3, byt3)\n",
    "bypred3 = l3.predict(bxtest3)\n",
    "meansq3 = mean_squared_error(bytest3, bypred3)\n",
    "print('Mean squared error of model with 70 training, 30 testing (model c): %.2f'%meansq3 )\n",
    "\n",
    "l4 = LinearRegression()\n",
    "l4.fit(bxt4, byt4)\n",
    "bypred4 = l4.predict(bxtest4)\n",
    "meansq4 = mean_squared_error(bytest4, bypred4)\n",
    "print('Mean squared error of model with 80 training, 20 testing (model d): %.2f'%meansq4 )\n",
    "\n",
    "meansq = [meansq1, meansq2, meansq3, meansq4]\n",
    "models = [\"model a\",\"model b\",\"model c\",\"model d\"]\n",
    "plt.xlabel(\"Models\")\n",
    "plt.ylabel(\"Mean squared errors\")\n",
    "plt.plot(models, meansq);\n",
    "plt.show()\n",
    "\n",
    "\n"
   ]
  },
  {
   "cell_type": "markdown",
   "metadata": {},
   "source": [
    " #### Exercise 3.4  ( 45 pts)\n",
    " \n",
    "Use `RFE` to find the best set of features for prediction. What are they? \n",
    "(Note that in order to find the best set of features for prediction, you need to consider all possible combinations, from 1 to d features, calculate the MSE for each one and pick the set of features that give you the min MSE)\n",
    "\n",
    "\n",
    "Use the same train-test splits from 3.3, to train new models with the best set of features for prediction. Plot the mean squared error for each linear regression models and given train-test split."
   ]
  },
  {
   "cell_type": "code",
   "execution_count": 11,
   "metadata": {},
   "outputs": [
    {
     "name": "stdout",
     "output_type": "stream",
     "text": [
      "[66.24626539520857, 38.06161612838875, 36.15694689851641, 29.936213851094323, 28.43660868607588, 24.15706692666329, 24.518286074110915, 23.867580843108872, 23.714028824572353, 23.92170058626435, 25.005673763425527, 24.456533805350162, 23.791624558962248]\n",
      "Using 9 number of best features for the model with 30-70 split will result in a minimum MSE of 23.71\n"
     ]
    }
   ],
   "source": [
    "#rfe to choose best set of features using model (a) (30% training, 70% testing)\n",
    "meanSqError1 = []\n",
    "for i in range(1,14):\n",
    "    rfe1 = RFE(estimator = l1 , n_features_to_select = i , step = 1)\n",
    "    rfe1.fit(bxt1, byt1)\n",
    "    bypred_1 = rfe1.predict(bxtest1)\n",
    "    meanSqError1.append(mean_squared_error(bytest1, bypred_1))\n",
    "print(meanSqError1)\n",
    "\n",
    "minError1 = min(meanSqError1)\n",
    "index1 = meanSqError1.index(minError1)\n",
    "n1 = index1+1\n",
    "print('Using %d number of best features for the model with 30-70 split will result in a minimum MSE of %.2f'%(n1,minError1))"
   ]
  },
  {
   "cell_type": "code",
   "execution_count": 12,
   "metadata": {},
   "outputs": [
    {
     "name": "stdout",
     "output_type": "stream",
     "text": [
      "[75.54570628137046, 40.85809557119581, 38.65264174881472, 33.220705616505356, 31.192503978936386, 24.337676450922547, 24.407064156207245, 24.613960332062586, 24.438405376785788, 24.17097734455363, 23.526136589346738, 23.58867650422636, 22.839287038640297]\n",
      "Using 13 numberof best features for the model with 50-50 split will result in a minimum MSE of 22.84\n"
     ]
    }
   ],
   "source": [
    "#rfe to choose best set of features using model (b) (50% training, 50% testing)\n",
    "meanSqError2 = []\n",
    "for i in range(1,14):\n",
    "    rfe2 = RFE(estimator = l2 , n_features_to_select = i , step = 1)\n",
    "    rfe2.fit(bxt2, byt2)\n",
    "    bypred_2 = rfe2.predict(bxtest2)\n",
    "    meanSqError2.append(mean_squared_error(bytest2, bypred_2))\n",
    "print(meanSqError2)\n",
    "\n",
    "minError2 = min(meanSqError2)\n",
    "index2 = meanSqError2.index(minError2)\n",
    "n2 = index2+1\n",
    "print('Using %d numberof best features for the model with 50-50 split will result in a minimum MSE of %.2f'%(n2,minError2))"
   ]
  },
  {
   "cell_type": "code",
   "execution_count": 13,
   "metadata": {},
   "outputs": [
    {
     "name": "stdout",
     "output_type": "stream",
     "text": [
      "[79.4927253212281, 34.73538602392434, 32.985220993805264, 28.337454152007407, 26.35771599403669, 21.878376244112662, 22.508133422937224, 21.814390741068735, 21.931897923118154, 21.790427419002615, 20.887316207321746, 19.825926356444967, 19.8313236720633]\n",
      "Using 12 number of best features for the model with 70-30 split will result in a minimum MSE of 19.83\n"
     ]
    }
   ],
   "source": [
    "#rfe to choose best set of features using model (c) (70% training, 30% testing)\n",
    "meanSqError3 = []\n",
    "for i in range(1,14):\n",
    "    rfe3 = RFE(estimator = l3 , n_features_to_select = i , step = 1)\n",
    "    rfe3.fit(bxt3, byt3)\n",
    "    bypred_3 = rfe3.predict(bxtest3)\n",
    "    meanSqError3.append(mean_squared_error(bytest3, bypred_3))\n",
    "print(meanSqError3)\n",
    "\n",
    "minError3 = min(meanSqError3)\n",
    "index3 = meanSqError3.index(minError3)\n",
    "n3 = index3+1\n",
    "print('Using %d number of best features for the model with 70-30 split will result in a minimum MSE of %.2f'%(n3,minError3))"
   ]
  },
  {
   "cell_type": "code",
   "execution_count": 14,
   "metadata": {},
   "outputs": [
    {
     "name": "stdout",
     "output_type": "stream",
     "text": [
      "[87.19710024019058, 39.484072181029546, 36.810849700042084, 33.69259713550797, 31.400856151372256, 25.352086585210674, 25.57759371455917, 25.288326729193475, 25.093643894454715, 25.64887021146561, 24.547251577144745, 23.35354385087481, 23.3808364802703]\n",
      "Using 12 number of best features for the model with 80-20 split will result in a minimum MSE of 23.35\n"
     ]
    }
   ],
   "source": [
    "#rfe to choose best set of features using model (d) (80% training, 20% testing)\n",
    "meanSqError4 = []\n",
    "for i in range(1,14):\n",
    "    rfe4 = RFE(estimator = l4 , n_features_to_select = i , step = 1)\n",
    "    rfe4.fit(bxt4, byt4)\n",
    "    bypred_4 = rfe4.predict(bxtest4)\n",
    "    meanSqError4.append(mean_squared_error(bytest4, bypred_4))\n",
    "print(meanSqError4)\n",
    "\n",
    "minError4 = min(meanSqError4)\n",
    "index4 = meanSqError4.index(minError4)\n",
    "n4 = index4+1\n",
    "print('Using %d number of best features for the model with 80-20 split will result in a minimum MSE of %.2f'%(n4,minError4))  \n"
   ]
  },
  {
   "cell_type": "code",
   "execution_count": 15,
   "metadata": {},
   "outputs": [
    {
     "data": {
      "image/png": "[encoded data removed]",
      "text/plain": [
       "<Figure size 432x288 with 1 Axes>"
      ]
     },
     "metadata": {},
     "output_type": "display_data"
    }
   ],
   "source": [
    "\n",
    "meansq_ = [minError1, minError2, minError3, minError4]\n",
    "models = [\"model a\",\"model b\",\"model c\",\"model d\"]\n",
    "plt.xlabel(\"Models\")\n",
    "plt.ylabel(\"Mean squared errors\")\n",
    "plt.title(\"Plot of models vs mean squared error when best set of features are used\")\n",
    "plt.plot(models, meansq_);\n",
    "plt.show()"
   ]
  },
  {
   "cell_type": "code",
   "execution_count": null,
   "metadata": {},
   "outputs": [],
   "source": []
  }
 ],
 "metadata": {
  "kernelspec": {
   "display_name": "Python 3",
   "language": "python",
   "name": "python3"
  },
  "language_info": {
   "codemirror_mode": {
    "name": "ipython",
    "version": 3
   },
   "file_extension": ".py",
   "mimetype": "text/x-python",
   "name": "python",
   "nbconvert_exporter": "python",
   "pygments_lexer": "ipython3",
   "version": "3.8.8"
  }
 },
 "nbformat": 4,
 "nbformat_minor": 2
}
